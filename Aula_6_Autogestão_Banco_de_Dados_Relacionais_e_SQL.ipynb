{
  "nbformat": 4,
  "nbformat_minor": 0,
  "metadata": {
    "colab": {
      "provenance": [],
      "include_colab_link": true
    },
    "kernelspec": {
      "name": "python3",
      "display_name": "Python 3"
    },
    "language_info": {
      "name": "python"
    }
  },
  "cells": [
    {
      "cell_type": "markdown",
      "metadata": {
        "id": "view-in-github",
        "colab_type": "text"
      },
      "source": [
        "<a href=\"https://colab.research.google.com/github/camilacruz-cs/pretalab-ciclo14-python/blob/main/Aula_6_Autogest%C3%A3o_Banco_de_Dados_Relacionais_e_SQL.ipynb\" target=\"_parent\"><img src=\"https://colab.research.google.com/assets/colab-badge.svg\" alt=\"Open In Colab\"/></a>"
      ]
    },
    {
      "cell_type": "markdown",
      "source": [
        "# Autogestão - Banco de Dados Relacionais e SQL"
      ],
      "metadata": {
        "id": "x9zjxv6ziyeW"
      }
    },
    {
      "cell_type": "markdown",
      "source": [
        "Utilize DB-fiddle: https://www.db-fiddle.com/"
      ],
      "metadata": {
        "id": "Vu4dexgcsQAZ"
      }
    },
    {
      "cell_type": "markdown",
      "source": [
        "### 1. Criando tabelas (15 min)"
      ],
      "metadata": {
        "id": "8u062VlhdcY0"
      }
    },
    {
      "cell_type": "markdown",
      "source": [
        "a. Crie uma tabela chamada filmes com as colunas:\n",
        "\n",
        "* id (inteiro, chave primária, serial (autoincremento))\n",
        "* titulo (texto, obrigatório)\n",
        "* genero (texto, obrigatório)\n",
        "* ano_lancamento (inteiro)\n",
        "\n",
        "b. Crie uma tabela chamada avaliacoes com as colunas:\n",
        "\n",
        "* id (inteiro, chave primária, serial(autoincremento))\n",
        "* filme_id (inteiro, chave estrangeira que referencia a tabela filmes)\n",
        "* nota (inteiro, de 1 a 5)\n",
        "* comentario (texto, opcional)"
      ],
      "metadata": {
        "id": "IYCSTqqCdp_H"
      }
    },
    {
      "cell_type": "markdown",
      "source": [
        "### 2. Inserindo linhas nas tabelas (15 min)"
      ],
      "metadata": {
        "id": "WgkriamjdhpA"
      }
    },
    {
      "cell_type": "markdown",
      "source": [
        "a. Insira 20 filmes diferentes na tabela, de gêneros variados (ação, comédia, drama, animação, etc.).\n",
        "\n",
        "b. Insira 40 avaliações para diferentes filmes, variando as notas (ex.: um filme com nota 5, outro com nota 3).\n",
        "\n",
        "👉 Dica: Podemos usar IA para gerar exemplos para Banco de Dados."
      ],
      "metadata": {
        "id": "xEmeDF3kdzIR"
      }
    },
    {
      "cell_type": "markdown",
      "source": [
        "### 3. Consultando filmes"
      ],
      "metadata": {
        "id": "fsl6u8yUd1CJ"
      }
    },
    {
      "cell_type": "markdown",
      "source": [
        "a. Liste todos os filmes de um único gênero.\n",
        "\n",
        "b. Depois, liste apenas os filmes lançados depois de 2010.\n",
        "\n",
        "c. Liste todos os filmes em ordem alfabética de título.\n",
        "\n",
        "d. Liste todos os filmes ordenados pelo ano de lançamento (mais recente primeiro)."
      ],
      "metadata": {
        "id": "LaFtBmkGd1FO"
      }
    },
    {
      "cell_type": "markdown",
      "source": [
        "### 4. Consultando avaliações"
      ],
      "metadata": {
        "id": "ohKLse6zekl4"
      }
    },
    {
      "cell_type": "markdown",
      "source": [
        "a. Liste todas as avaliações ordenadas por nota decrescente.\n",
        "\n",
        "b. Selecione todas as avaliações com nota maior ou igual a 4.\n",
        "\n",
        "c. Selecione os comentários em que aparece as palavras 'bom' ou 'gostei'."
      ],
      "metadata": {
        "id": "F_dep9m8enam"
      }
    },
    {
      "cell_type": "markdown",
      "source": [
        "### 5. Funções de agregação"
      ],
      "metadata": {
        "id": "g86lWjZWerDK"
      }
    },
    {
      "cell_type": "markdown",
      "source": [
        "a. Verifique quantos filmes existem na tabela para cada gênero.\n",
        "\n",
        "b. Calcule a média das notas por filme (agrupando pelo filme_id).\n",
        "\n",
        "c. Liste apenas os filmes com nota média maior que 4."
      ],
      "metadata": {
        "id": "DYa_sy2xerzT"
      }
    },
    {
      "cell_type": "markdown",
      "source": [
        "### 6. Atualizando e removendo registros"
      ],
      "metadata": {
        "id": "zYkfHfr7eu5h"
      }
    },
    {
      "cell_type": "markdown",
      "source": [
        "a. Atualize a nota de uma avaliação de 3 para 4.\n",
        "\n",
        "b. Delete todas as avaliações com nota igual a 1."
      ],
      "metadata": {
        "id": "zGlNuEheex-X"
      }
    },
    {
      "cell_type": "markdown",
      "source": [
        "## Parte 2 - Prática em SQLite com Python"
      ],
      "metadata": {
        "id": "z7MZazsLe0r0"
      }
    },
    {
      "cell_type": "markdown",
      "source": [
        "Usando Python e o pacote sqlite3:\n",
        "\n",
        "a. Crie o banco de dados local `cinema.db` e adicione as tabelas filmes e avaliacoes com os campos definidos acima.\n",
        "\n",
        "b. Implemente as quatro operações CRUD para ambas tabelas, ou seja, insira, leia, atualize e remova registros diretamente pelo Python."
      ],
      "metadata": {
        "id": "kKDvlDhqe6Kn"
      }
    },
    {
      "cell_type": "code",
      "source": [
        "import sqlite3"
      ],
      "metadata": {
        "id": "Yyr4WAu7VN7U"
      },
      "execution_count": 1,
      "outputs": []
    },
    {
      "cell_type": "code",
      "source": [
        "#Passo 1 - Criação do BD - Cinema.db\n",
        "\n",
        "con = sqlite3.connect(\"cinema.db\")\n",
        "cur = con.cursor()"
      ],
      "metadata": {
        "id": "0r_9rBJLepoj"
      },
      "execution_count": 2,
      "outputs": []
    },
    {
      "cell_type": "code",
      "source": [
        "#Passo 2 - Adicionando tabelas de filmes e avaliações\n",
        "\n",
        "cur.execute(\"\"\"\n",
        "CREATE TABLE IF NOT EXISTS filmes (\n",
        "    id INTEGER PRIMARY KEY AUTOINCREMENT,\n",
        "    filme TEXT NOT NULL,\n",
        "    diretor TEXT NOT NULL,\n",
        "    genero TEXT NOT NULL,\n",
        "    ano_lancamento TIMESTAMP\n",
        ");\n",
        "\"\"\")\n",
        "\n",
        "con.commit()"
      ],
      "metadata": {
        "id": "Wm-0sxrcVPn3"
      },
      "execution_count": 3,
      "outputs": []
    },
    {
      "cell_type": "code",
      "source": [
        "cur.execute(\"\"\"\n",
        "CREATE TABLE IF NOT EXISTS avaliacoes (\n",
        "    id INTEGER PRIMARY KEY AUTOINCREMENT,\n",
        "    filme_id INTEGER NOT NULL,\n",
        "    nota INTEGER,\n",
        "    comentario TEXT,\n",
        "    FOREIGN KEY(filme_id) REFERENCES filmes(id)\n",
        ");\n",
        "\"\"\")\n",
        "\n",
        "con.commit()"
      ],
      "metadata": {
        "id": "S1DGh5TpPyfo"
      },
      "execution_count": 4,
      "outputs": []
    },
    {
      "cell_type": "code",
      "source": [
        "cur.execute(\"DELETE FROM avaliacoes\")\n",
        "cur.execute(\"DELETE FROM filmes\")\n",
        "con.commit()\n"
      ],
      "metadata": {
        "id": "0fv-7A1MQtJp"
      },
      "execution_count": 5,
      "outputs": []
    },
    {
      "cell_type": "code",
      "source": [
        "#Passo 3 - Alimentando as tabelas cinema e avaliações\n",
        "\n",
        "cur.executemany(\"\"\"\n",
        "INSERT INTO filmes (filme, diretor, genero, ano_lancamento)\n",
        "VALUES (?, ?, ?, ?)\n",
        "\"\"\", [\n",
        "    (\"Interestelar\", \"Christopher Nolan\", \"Ficção Científica\", \"2014-11-06\"),\n",
        "    (\"Parasita\", \"Bong Joon-ho\", \"Drama\", \"2019-05-30\"),\n",
        "    (\"O Poderoso Chefão\", \"Francis Ford Coppola\", \"Crime\", \"1972-03-24\"),\n",
        "    (\"A Origem\", \"Christopher Nolan\", \"Ficção Científica\", \"2010-07-16\"),\n",
        "    (\"Matrix\", \"Lana Wachowski\", \"Ficção Científica\", \"1999-03-31\"),\n",
        "    (\"Clube da Luta\", \"David Fincher\", \"Drama\", \"1999-10-15\"),\n",
        "    (\"Pulp Fiction\", \"Quentin Tarantino\", \"Crime\", \"1994-10-14\"),\n",
        "    (\"Forrest Gump\", \"Robert Zemeckis\", \"Drama\", \"1994-07-06\"),\n",
        "    (\"O Senhor dos Anéis: A Sociedade do Anel\", \"Peter Jackson\", \"Fantasia\", \"2001-12-19\"),\n",
        "    (\"O Senhor dos Anéis: As Duas Torres\", \"Peter Jackson\", \"Fantasia\", \"2002-12-18\"),\n",
        "    (\"O Senhor dos Anéis: O Retorno do Rei\", \"Peter Jackson\", \"Fantasia\", \"2003-12-17\"),\n",
        "    (\"Gladiador\", \"Ridley Scott\", \"Ação\", \"2000-05-05\"),\n",
        "    (\"Coringa\", \"Todd Phillips\", \"Drama\", \"2019-10-03\"),\n",
        "    (\"Titanic\", \"James Cameron\", \"Romance\", \"1997-12-19\"),\n",
        "    (\"Avatar\", \"James Cameron\", \"Ficção Científica\", \"2009-12-18\"),\n",
        "    (\"Os Infiltrados\", \"Martin Scorsese\", \"Crime\", \"2006-10-06\"),\n",
        "    (\"Ilha do Medo\", \"Martin Scorsese\", \"Thriller\", \"2010-02-19\"),\n",
        "    (\"A Lista de Schindler\", \"Steven Spielberg\", \"Histórico\", \"1993-12-15\"),\n",
        "    (\"Jurassic Park\", \"Steven Spielberg\", \"Aventura\", \"1993-06-11\"),\n",
        "    (\"E.T. O Extraterrestre\", \"Steven Spielberg\", \"Ficção Científica\", \"1982-06-11\"),\n",
        "    (\"O Resgate do Soldado Ryan\", \"Steven Spielberg\", \"Guerra\", \"1998-07-24\"),\n",
        "    (\"Infiltrado na Klan\", \"Spike Lee\", \"Drama\", \"2018-08-10\"),\n",
        "    (\"Django Livre\", \"Quentin Tarantino\", \"Faroeste\", \"2012-12-25\"),\n",
        "    (\"Bastardos Inglórios\", \"Quentin Tarantino\", \"Guerra\", \"2009-08-21\"),\n",
        "    (\"Kill Bill Vol. 1\", \"Quentin Tarantino\", \"Ação\", \"2003-10-10\"),\n",
        "    (\"Kill Bill Vol. 2\", \"Quentin Tarantino\", \"Ação\", \"2004-04-16\"),\n",
        "    (\"O Irlandês\", \"Martin Scorsese\", \"Crime\", \"2019-11-27\"),\n",
        "    (\"Os Bons Companheiros\", \"Martin Scorsese\", \"Crime\", \"1990-09-19\"),\n",
        "    (\"Taxi Driver\", \"Martin Scorsese\", \"Drama\", \"1976-02-08\"),\n",
        "    (\"O Lobo de Wall Street\", \"Martin Scorsese\", \"Comédia\", \"2013-12-25\"),\n",
        "    (\"A Vida é Bela\", \"Roberto Benigni\", \"Drama\", \"1997-12-20\"),\n",
        "    (\"Cidade de Deus\", \"Fernando Meirelles\", \"Crime\", \"2002-08-30\"),\n",
        "    (\"Central do Brasil\", \"Walter Salles\", \"Drama\", \"1998-04-03\"),\n",
        "    (\"Que Horas Ela Volta?\", \"Anna Muylaert\", \"Drama\", \"2015-08-27\"),\n",
        "    (\"O Auto da Compadecida\", \"Guel Arraes\", \"Comédia\", \"2000-09-15\"),\n",
        "    (\"Carandiru\", \"Hector Babenco\", \"Drama\", \"2003-04-11\"),\n",
        "    (\"Se Eu Fosse Você\", \"Daniel Filho\", \"Comédia\", \"2006-01-06\"),\n",
        "    (\"Tropa de Elite\", \"José Padilha\", \"Ação\", \"2007-10-05\"),\n",
        "    (\"Tropa de Elite 2\", \"José Padilha\", \"Ação\", \"2010-10-08\"),\n",
        "    (\"Aquarius\", \"Kleber Mendonça Filho\", \"Drama\", \"2016-09-01\")\n",
        "])\n",
        "\n",
        "cur.executemany(\"\"\"\n",
        "INSERT INTO avaliacoes (filme_id, nota, comentario)\n",
        "VALUES (?, ?, ?)\n",
        "\"\"\", [\n",
        "    (1, 5, \"Emocionante e profundo.\"),\n",
        "    (2, 5, \"Genial!\"),\n",
        "    (3, 4, \"Um clássico que nunca envelhece.\"),\n",
        "    (4, 5, \"História muito complexa.\"),\n",
        "    (5, 4, \"Revolucionário para a época.\"),\n",
        "    (6, 5, \"Impactante e filosófico.\"),\n",
        "    (7, 5, \"Diálogos memoráveis.\"),\n",
        "    (8, 5, \"Inspirador.\"),\n",
        "    (9, 5, \"Épico.\"),\n",
        "    (10, 5, \"Grande sequência.\"),\n",
        "    (11, 5, \"Final perfeito.\"),\n",
        "    (12, 4, \"Ótimas batalhas.\"),\n",
        "    (13, 5, \"Performance incrível.\"),\n",
        "    (14, 5, \"Clássico dos anos 90.\"),\n",
        "    (15, 4, \"Visual impressionante.\"),\n",
        "    (16, 5, \"Suspense excelente.\"),\n",
        "    (17, 4, \"Muito envolvente.\"),\n",
        "    (18, 5, \"Importante para a história.\"),\n",
        "    (19, 5, \"Fantasia pura.\"),\n",
        "    (20, 5, \"Realista e intenso.\"),\n",
        "    (21, 4, \"Ótima crítica social.\"),\n",
        "    (22, 5, \"Um Tarantino clássico.\"),\n",
        "    (23, 4, \"Diálogos afiados.\"),\n",
        "    (24, 5, \"Icônico.\"),\n",
        "    (25, 4, \"Boa sequência.\"),\n",
        "    (26, 5, \"História longa, mas ótima.\"),\n",
        "    (27, 5, \"Obra-prima do crime.\"),\n",
        "    (28, 5, \"Atuação impecável.\"),\n",
        "    (29, 4, \"Personagem marcante.\"),\n",
        "    (30, 5, \"Muito divertido.\"),\n",
        "    (31, 5, \"Emocionante.\"),\n",
        "    (32, 5, \"Realidade brasileira nua e crua.\"),\n",
        "    (33, 5, \"Comovente.\"),\n",
        "    (34, 5, \"Reflexivo.\"),\n",
        "    (35, 5, \"Hilário e crítico.\"),\n",
        "    (36, 4, \"Duro, mas necessário.\"),\n",
        "    (37, 4, \"Comédia leve.\"),\n",
        "    (38, 5, \"Intenso.\"),\n",
        "    (39, 5, \"Continuação à altura.\"),\n",
        "    (40, 5, \"Maravilhoso filme nacional.\")\n",
        "])\n",
        "\n",
        "con.commit()\n"
      ],
      "metadata": {
        "id": "Jqf6NdM5Ok0d"
      },
      "execution_count": 6,
      "outputs": []
    },
    {
      "cell_type": "code",
      "source": [
        "# Etapa 4 - Leitura das tabelas\n",
        "\n",
        "print('Lendo a tabela filmes: ')\n",
        "for row in cur.execute('Select * from filmes'):\n",
        "  print(row)"
      ],
      "metadata": {
        "colab": {
          "base_uri": "https://localhost:8080/"
        },
        "id": "EiIi9NWeTci-",
        "outputId": "2a248eef-8cd9-4527-cc6f-13afc07973b1"
      },
      "execution_count": 7,
      "outputs": [
        {
          "output_type": "stream",
          "name": "stdout",
          "text": [
            "Lendo a tabela filmes: \n",
            "(1, 'Interestelar', 'Christopher Nolan', 'Ficção Científica', '2014-11-06')\n",
            "(2, 'Parasita', 'Bong Joon-ho', 'Drama', '2019-05-30')\n",
            "(3, 'O Poderoso Chefão', 'Francis Ford Coppola', 'Crime', '1972-03-24')\n",
            "(4, 'A Origem', 'Christopher Nolan', 'Ficção Científica', '2010-07-16')\n",
            "(5, 'Matrix', 'Lana Wachowski', 'Ficção Científica', '1999-03-31')\n",
            "(6, 'Clube da Luta', 'David Fincher', 'Drama', '1999-10-15')\n",
            "(7, 'Pulp Fiction', 'Quentin Tarantino', 'Crime', '1994-10-14')\n",
            "(8, 'Forrest Gump', 'Robert Zemeckis', 'Drama', '1994-07-06')\n",
            "(9, 'O Senhor dos Anéis: A Sociedade do Anel', 'Peter Jackson', 'Fantasia', '2001-12-19')\n",
            "(10, 'O Senhor dos Anéis: As Duas Torres', 'Peter Jackson', 'Fantasia', '2002-12-18')\n",
            "(11, 'O Senhor dos Anéis: O Retorno do Rei', 'Peter Jackson', 'Fantasia', '2003-12-17')\n",
            "(12, 'Gladiador', 'Ridley Scott', 'Ação', '2000-05-05')\n",
            "(13, 'Coringa', 'Todd Phillips', 'Drama', '2019-10-03')\n",
            "(14, 'Titanic', 'James Cameron', 'Romance', '1997-12-19')\n",
            "(15, 'Avatar', 'James Cameron', 'Ficção Científica', '2009-12-18')\n",
            "(16, 'Os Infiltrados', 'Martin Scorsese', 'Crime', '2006-10-06')\n",
            "(17, 'Ilha do Medo', 'Martin Scorsese', 'Thriller', '2010-02-19')\n",
            "(18, 'A Lista de Schindler', 'Steven Spielberg', 'Histórico', '1993-12-15')\n",
            "(19, 'Jurassic Park', 'Steven Spielberg', 'Aventura', '1993-06-11')\n",
            "(20, 'E.T. O Extraterrestre', 'Steven Spielberg', 'Ficção Científica', '1982-06-11')\n",
            "(21, 'O Resgate do Soldado Ryan', 'Steven Spielberg', 'Guerra', '1998-07-24')\n",
            "(22, 'Infiltrado na Klan', 'Spike Lee', 'Drama', '2018-08-10')\n",
            "(23, 'Django Livre', 'Quentin Tarantino', 'Faroeste', '2012-12-25')\n",
            "(24, 'Bastardos Inglórios', 'Quentin Tarantino', 'Guerra', '2009-08-21')\n",
            "(25, 'Kill Bill Vol. 1', 'Quentin Tarantino', 'Ação', '2003-10-10')\n",
            "(26, 'Kill Bill Vol. 2', 'Quentin Tarantino', 'Ação', '2004-04-16')\n",
            "(27, 'O Irlandês', 'Martin Scorsese', 'Crime', '2019-11-27')\n",
            "(28, 'Os Bons Companheiros', 'Martin Scorsese', 'Crime', '1990-09-19')\n",
            "(29, 'Taxi Driver', 'Martin Scorsese', 'Drama', '1976-02-08')\n",
            "(30, 'O Lobo de Wall Street', 'Martin Scorsese', 'Comédia', '2013-12-25')\n",
            "(31, 'A Vida é Bela', 'Roberto Benigni', 'Drama', '1997-12-20')\n",
            "(32, 'Cidade de Deus', 'Fernando Meirelles', 'Crime', '2002-08-30')\n",
            "(33, 'Central do Brasil', 'Walter Salles', 'Drama', '1998-04-03')\n",
            "(34, 'Que Horas Ela Volta?', 'Anna Muylaert', 'Drama', '2015-08-27')\n",
            "(35, 'O Auto da Compadecida', 'Guel Arraes', 'Comédia', '2000-09-15')\n",
            "(36, 'Carandiru', 'Hector Babenco', 'Drama', '2003-04-11')\n",
            "(37, 'Se Eu Fosse Você', 'Daniel Filho', 'Comédia', '2006-01-06')\n",
            "(38, 'Tropa de Elite', 'José Padilha', 'Ação', '2007-10-05')\n",
            "(39, 'Tropa de Elite 2', 'José Padilha', 'Ação', '2010-10-08')\n",
            "(40, 'Aquarius', 'Kleber Mendonça Filho', 'Drama', '2016-09-01')\n"
          ]
        }
      ]
    },
    {
      "cell_type": "code",
      "source": [
        "print('Lendo a tabela avaliações: ')\n",
        "for row in cur.execute('Select * from avaliacoes'):\n",
        "  print(row)"
      ],
      "metadata": {
        "colab": {
          "base_uri": "https://localhost:8080/"
        },
        "id": "tMtEouFrTtEQ",
        "outputId": "cdb2b12d-69c4-48ba-cd93-c724142fe138"
      },
      "execution_count": 8,
      "outputs": [
        {
          "output_type": "stream",
          "name": "stdout",
          "text": [
            "Lendo a tabela avaliações: \n",
            "(1, 1, 5, 'Emocionante e profundo.')\n",
            "(2, 2, 5, 'Genial!')\n",
            "(3, 3, 4, 'Um clássico que nunca envelhece.')\n",
            "(4, 4, 5, 'História muito complexa.')\n",
            "(5, 5, 4, 'Revolucionário para a época.')\n",
            "(6, 6, 5, 'Impactante e filosófico.')\n",
            "(7, 7, 5, 'Diálogos memoráveis.')\n",
            "(8, 8, 5, 'Inspirador.')\n",
            "(9, 9, 5, 'Épico.')\n",
            "(10, 10, 5, 'Grande sequência.')\n",
            "(11, 11, 5, 'Final perfeito.')\n",
            "(12, 12, 4, 'Ótimas batalhas.')\n",
            "(13, 13, 5, 'Performance incrível.')\n",
            "(14, 14, 5, 'Clássico dos anos 90.')\n",
            "(15, 15, 4, 'Visual impressionante.')\n",
            "(16, 16, 5, 'Suspense excelente.')\n",
            "(17, 17, 4, 'Muito envolvente.')\n",
            "(18, 18, 5, 'Importante para a história.')\n",
            "(19, 19, 5, 'Fantasia pura.')\n",
            "(20, 20, 5, 'Realista e intenso.')\n",
            "(21, 21, 4, 'Ótima crítica social.')\n",
            "(22, 22, 5, 'Um Tarantino clássico.')\n",
            "(23, 23, 4, 'Diálogos afiados.')\n",
            "(24, 24, 5, 'Icônico.')\n",
            "(25, 25, 4, 'Boa sequência.')\n",
            "(26, 26, 5, 'História longa, mas ótima.')\n",
            "(27, 27, 5, 'Obra-prima do crime.')\n",
            "(28, 28, 5, 'Atuação impecável.')\n",
            "(29, 29, 4, 'Personagem marcante.')\n",
            "(30, 30, 5, 'Muito divertido.')\n",
            "(31, 31, 5, 'Emocionante.')\n",
            "(32, 32, 5, 'Realidade brasileira nua e crua.')\n",
            "(33, 33, 5, 'Comovente.')\n",
            "(34, 34, 5, 'Reflexivo.')\n",
            "(35, 35, 5, 'Hilário e crítico.')\n",
            "(36, 36, 4, 'Duro, mas necessário.')\n",
            "(37, 37, 4, 'Comédia leve.')\n",
            "(38, 38, 5, 'Intenso.')\n",
            "(39, 39, 5, 'Continuação à altura.')\n",
            "(40, 40, 5, 'Maravilhoso filme nacional.')\n"
          ]
        }
      ]
    },
    {
      "cell_type": "code",
      "source": [
        "# Etapa 5 - Atualização\n",
        "\n",
        "cur.execute(\"UPDATE avaliacoes SET nota = '10' WHERE id = '1'\")\n",
        "con.commit()"
      ],
      "metadata": {
        "id": "Fn_951CnT_ml"
      },
      "execution_count": 15,
      "outputs": []
    },
    {
      "cell_type": "code",
      "source": [
        "print(\"Validação da tabela Avaliações: \")\n",
        "for row in cur.execute(\"select * from avaliacoes where id = 1\"):\n",
        "  print(row)"
      ],
      "metadata": {
        "colab": {
          "base_uri": "https://localhost:8080/"
        },
        "id": "HxC7sO2oVYmM",
        "outputId": "e1316888-ec13-4243-cb10-ecf151645dc8"
      },
      "execution_count": 16,
      "outputs": [
        {
          "output_type": "stream",
          "name": "stdout",
          "text": [
            "Validação da tabela Avaliações: \n",
            "(1, 1, 10, 'Emocionante e profundo.')\n"
          ]
        }
      ]
    },
    {
      "cell_type": "code",
      "source": [
        "#Etapa 6 - Delete\n",
        "\n",
        "cur.execute(\"DELETE FROM avaliacoes WHERE id = '1'\")\n",
        "con.commit()"
      ],
      "metadata": {
        "id": "ukBE0mmjUDux"
      },
      "execution_count": 17,
      "outputs": []
    },
    {
      "cell_type": "code",
      "source": [
        "print(\"Validação da tabela Avaliações - ID Deletado: \")\n",
        "for row in cur.execute(\"select * from avaliacoes where id = 1\"):\n",
        "  print(row)"
      ],
      "metadata": {
        "colab": {
          "base_uri": "https://localhost:8080/"
        },
        "id": "lq-Vkbk3VxAB",
        "outputId": "6ae063a9-aed1-4dd4-eb11-72c216395b32"
      },
      "execution_count": 18,
      "outputs": [
        {
          "output_type": "stream",
          "name": "stdout",
          "text": [
            "Validação da tabela Avaliações - ID Deletado: \n"
          ]
        }
      ]
    }
  ]
}