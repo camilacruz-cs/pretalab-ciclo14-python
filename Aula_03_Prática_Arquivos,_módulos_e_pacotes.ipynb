{
  "nbformat": 4,
  "nbformat_minor": 0,
  "metadata": {
    "colab": {
      "provenance": [],
      "include_colab_link": true
    },
    "kernelspec": {
      "name": "python3",
      "display_name": "Python 3"
    },
    "language_info": {
      "name": "python"
    }
  },
  "cells": [
    {
      "cell_type": "markdown",
      "metadata": {
        "id": "view-in-github",
        "colab_type": "text"
      },
      "source": [
        "<a href=\"https://colab.research.google.com/github/camilacruz-cs/pretalab-ciclo14-python/blob/main/Aula_03_Pr%C3%A1tica_Arquivos%2C_m%C3%B3dulos_e_pacotes.ipynb\" target=\"_parent\"><img src=\"https://colab.research.google.com/assets/colab-badge.svg\" alt=\"Open In Colab\"/></a>"
      ]
    },
    {
      "cell_type": "markdown",
      "source": [
        "# 📚 Aula Prática – Arquivos, Pacotes e Módulos"
      ],
      "metadata": {
        "id": "ZjfA_auiiuob"
      }
    },
    {
      "cell_type": "markdown",
      "source": [
        "## Tema: Arquivos, Módulos e Pacotes (os, random, faker, requests, BeautifulSoup)\n",
        "\n",
        "## Objetivo da aula: Criar, organizar, analisar e coletar informações em diferentes contextos com Python."
      ],
      "metadata": {
        "id": "YI0rdZaOpJgD"
      }
    },
    {
      "cell_type": "markdown",
      "source": [
        "ℹ️ Lembretes:\n",
        "\n",
        "- O sistema de arquivos do Colab é temporário. Se quiser salvar os arquivos, baixe-os para seu computador ou conecte seu Google Drive.\n",
        "\n",
        "- Utilize `%%writefile` para criar módulos\n",
        "\n",
        "- Use código Python para criar pastas e arquivos."
      ],
      "metadata": {
        "id": "omuz2q1XiwHM"
      }
    },
    {
      "cell_type": "markdown",
      "source": [
        "## Nível Básico – Aquecimento"
      ],
      "metadata": {
        "id": "x_raQVcRjExD"
      }
    },
    {
      "cell_type": "markdown",
      "source": [
        "### Exercício 1 – Cadastro de alunas (usando `faker` e `random`)\n",
        "\n",
        "- Imagine que você é responsável por organizar uma lista de alunas para um curso.\n",
        "\n",
        "- Use a biblioteca `faker` para gerar pelo menos 30 nomes de alunas.\n",
        "\n",
        "- Para cada aluna, crie também um número de matrícula aleatório (por exemplo, entre 1000 e 9999).\n",
        "\n",
        "- Salve os dados em um arquivo chamado alunas.txt, com o formato: `Nome - Matrícula`\n",
        "\n",
        "\n",
        "\n"
      ],
      "metadata": {
        "id": "kQhBJqnMphQX"
      }
    },
    {
      "cell_type": "code",
      "source": [
        "!pip install faker"
      ],
      "metadata": {
        "colab": {
          "base_uri": "https://localhost:8080/"
        },
        "collapsed": true,
        "id": "lr8r6qD7p2Ga",
        "outputId": "a0ee6140-b0bb-45bb-d61a-60ac50b2a824"
      },
      "execution_count": null,
      "outputs": [
        {
          "output_type": "stream",
          "name": "stdout",
          "text": [
            "Collecting faker\n",
            "  Downloading faker-37.8.0-py3-none-any.whl.metadata (15 kB)\n",
            "Requirement already satisfied: tzdata in /usr/local/lib/python3.12/dist-packages (from faker) (2025.2)\n",
            "Downloading faker-37.8.0-py3-none-any.whl (2.0 MB)\n",
            "\u001b[?25l   \u001b[90m━━━━━━━━━━━━━━━━━━━━━━━━━━━━━━━━━━━━━━━━\u001b[0m \u001b[32m0.0/2.0 MB\u001b[0m \u001b[31m?\u001b[0m eta \u001b[36m-:--:--\u001b[0m\r\u001b[2K   \u001b[90m━━━━━━━━━━━━━━━━━━━━━━━━━━━━━━━━━━━━━━━━\u001b[0m \u001b[32m2.0/2.0 MB\u001b[0m \u001b[31m63.4 MB/s\u001b[0m eta \u001b[36m0:00:00\u001b[0m\n",
            "\u001b[?25hInstalling collected packages: faker\n",
            "Successfully installed faker-37.8.0\n"
          ]
        }
      ]
    },
    {
      "cell_type": "code",
      "source": [
        "from faker import Faker\n",
        "import random\n",
        "\n",
        "fake = Faker('pT_BR')\n",
        "\n",
        "with open ('alunas.txt', 'w', encoding = 'utf-8') as arquivo:\n",
        "  for i in range(30):\n",
        "    nome = fake.name_female()\n",
        "    matricula = random.randint(1000, 9999)\n",
        "    linha_arquivo = f\"{nome} - {matricula}\\n\"\n",
        "    arquivo.write(linha_arquivo)\n",
        "\n",
        "    print(i)\n",
        "    print(linha_arquivo)\n",
        "\n",
        "\n"
      ],
      "metadata": {
        "colab": {
          "base_uri": "https://localhost:8080/"
        },
        "id": "-x-oarnRqUfL",
        "outputId": "67180f24-ff01-40d6-8f4e-3d2eeff4fbf3"
      },
      "execution_count": null,
      "outputs": [
        {
          "output_type": "stream",
          "name": "stdout",
          "text": [
            "0\n",
            "Ana Vitória Santos - 6696\n",
            "\n",
            "1\n",
            "Isabel Ferreira - 6958\n",
            "\n",
            "2\n",
            "Nina Sousa - 4819\n",
            "\n",
            "3\n",
            "Pietra Camargo - 3465\n",
            "\n",
            "4\n",
            "Maria Alice da Conceição - 9972\n",
            "\n",
            "5\n",
            "Gabriela Andrade - 7837\n",
            "\n",
            "6\n",
            "Sra. Hellena Novaes - 5499\n",
            "\n",
            "7\n",
            "Mirella Marques - 9928\n",
            "\n",
            "8\n",
            "Maria Clara Alves - 1705\n",
            "\n",
            "9\n",
            "Agatha Carvalho - 5452\n",
            "\n",
            "10\n",
            "Melina Teixeira - 1764\n",
            "\n",
            "11\n",
            "Milena Ribeiro - 6977\n",
            "\n",
            "12\n",
            "Dra. Bárbara Silveira - 6595\n",
            "\n",
            "13\n",
            "Joana Castro - 9699\n",
            "\n",
            "14\n",
            "Cecília Rocha - 9232\n",
            "\n",
            "15\n",
            "Srta. Ana Barbosa - 8510\n",
            "\n",
            "16\n",
            "Liz Nascimento - 9340\n",
            "\n",
            "17\n",
            "Antonella Castro - 6518\n",
            "\n",
            "18\n",
            "Olivia Machado - 9485\n",
            "\n",
            "19\n",
            "Isis Cirino - 3164\n",
            "\n",
            "20\n",
            "Dra. Ana Carolina Nogueira - 5217\n",
            "\n",
            "21\n",
            "Ana Vitória Campos - 7308\n",
            "\n",
            "22\n",
            "Brenda Cirino - 4683\n",
            "\n",
            "23\n",
            "Lunna Abreu - 3096\n",
            "\n",
            "24\n",
            "Srta. Maria Eduarda Marques - 8644\n",
            "\n",
            "25\n",
            "Ana Vitória da Mata - 6937\n",
            "\n",
            "26\n",
            "Dra. Cecília Novaes - 2407\n",
            "\n",
            "27\n",
            "Carolina Silveira - 9984\n",
            "\n",
            "28\n",
            "Alexia Sá - 2482\n",
            "\n",
            "29\n",
            "Maria Clara Montenegro - 6268\n",
            "\n"
          ]
        }
      ]
    },
    {
      "cell_type": "markdown",
      "source": [
        "### Exercício 2 – Analisando números de uma pesquisa (usando random)\n",
        "\n",
        "Você está ajudando em uma pesquisa que deseja coletar 200 respostas numéricas (valores entre 1 e 1000).\n",
        "\n",
        "1. Gere esses números aleatórios e salve-os em um arquivo numeros.txt.\n",
        "\n",
        "2. Escreva um programa que leia o arquivo e descubra: Qual foi a menor resposta registrada? Qual foi a maior resposta registrada?\n",
        "\n",
        "Esse tipo de análise é importante para entender extremos em pesquisas ou levantamentos de dados."
      ],
      "metadata": {
        "id": "3L50bq3zp7US"
      }
    },
    {
      "cell_type": "code",
      "source": [
        "import random\n",
        "\n",
        "#Criando o arquivo\n",
        "\n",
        "with open ('numeros.txt', 'w', encoding = 'utf-8') as arquivo:\n",
        "  for _ in range(200):\n",
        "    numeros = random.randint(1, 1000)\n",
        "    arquivo.write(str(numeros)+ \"\\n\")"
      ],
      "metadata": {
        "id": "FCECbdqPwymE"
      },
      "execution_count": null,
      "outputs": []
    },
    {
      "cell_type": "code",
      "source": [
        "with open(\"numeros.txt\", \"r\", encoding=\"utf-8\") as arquivo:\n",
        "  numeros = arquivo.readlines()\n",
        "\n",
        "numeros_convertidos = []\n",
        "for num in numeros:\n",
        "  numeros_convertidos.append(int(num))\n",
        "\n",
        "print(numeros)\n",
        "print(\"Maior número:\", max(numeros_convertidos))\n",
        "print(\"Menor número:\", min(numeros_convertidos))"
      ],
      "metadata": {
        "colab": {
          "base_uri": "https://localhost:8080/"
        },
        "id": "NIQE25yo0gCj",
        "outputId": "548ac87d-053f-4651-be91-c3a4996cfbf8"
      },
      "execution_count": null,
      "outputs": [
        {
          "output_type": "stream",
          "name": "stdout",
          "text": [
            "['163\\n', '128\\n', '807\\n', '529\\n', '447\\n', '290\\n', '517\\n', '799\\n', '448\\n', '536\\n', '101\\n', '254\\n', '241\\n', '964\\n', '596\\n', '906\\n', '69\\n', '363\\n', '230\\n', '552\\n', '860\\n', '674\\n', '979\\n', '344\\n', '270\\n', '181\\n', '558\\n', '670\\n', '485\\n', '262\\n', '441\\n', '465\\n', '43\\n', '6\\n', '689\\n', '567\\n', '941\\n', '232\\n', '390\\n', '793\\n', '323\\n', '664\\n', '375\\n', '764\\n', '760\\n', '346\\n', '719\\n', '21\\n', '23\\n', '577\\n', '679\\n', '971\\n', '839\\n', '996\\n', '154\\n', '724\\n', '876\\n', '390\\n', '981\\n', '595\\n', '729\\n', '895\\n', '783\\n', '321\\n', '227\\n', '10\\n', '809\\n', '705\\n', '659\\n', '840\\n', '523\\n', '745\\n', '964\\n', '792\\n', '591\\n', '917\\n', '600\\n', '849\\n', '659\\n', '719\\n', '877\\n', '505\\n', '908\\n', '660\\n', '581\\n', '97\\n', '464\\n', '363\\n', '552\\n', '101\\n', '187\\n', '211\\n', '275\\n', '99\\n', '319\\n', '815\\n', '813\\n', '874\\n', '674\\n', '498\\n', '664\\n', '705\\n', '952\\n', '984\\n', '519\\n', '338\\n', '520\\n', '926\\n', '132\\n', '132\\n', '416\\n', '916\\n', '921\\n', '198\\n', '439\\n', '221\\n', '255\\n', '852\\n', '123\\n', '983\\n', '944\\n', '954\\n', '398\\n', '225\\n', '490\\n', '952\\n', '877\\n', '211\\n', '641\\n', '682\\n', '802\\n', '711\\n', '912\\n', '559\\n', '244\\n', '124\\n', '437\\n', '163\\n', '28\\n', '170\\n', '908\\n', '610\\n', '978\\n', '455\\n', '736\\n', '451\\n', '375\\n', '197\\n', '181\\n', '484\\n', '540\\n', '617\\n', '714\\n', '520\\n', '991\\n', '922\\n', '104\\n', '905\\n', '509\\n', '543\\n', '969\\n', '565\\n', '499\\n', '123\\n', '552\\n', '977\\n', '564\\n', '541\\n', '469\\n', '698\\n', '572\\n', '994\\n', '977\\n', '951\\n', '692\\n', '784\\n', '727\\n', '512\\n', '594\\n', '459\\n', '923\\n', '414\\n', '234\\n', '170\\n', '998\\n', '331\\n', '655\\n', '360\\n', '599\\n', '60\\n', '38\\n', '493\\n', '794\\n', '692\\n', '853\\n', '302\\n', '71\\n', '484\\n', '849\\n', '309\\n']\n",
            "Maior número: 998\n",
            "Menor número: 6\n"
          ]
        }
      ]
    },
    {
      "cell_type": "code",
      "source": [
        "# Uma possibilidade mostrada na aula\n",
        "\n",
        "with open('numeros.txt', 'r', encoding='utf-8') as arquivo:\n",
        "    numeros = arquivo.readline().split()  # separa pelos espaços\n",
        "\n",
        "numeros_convertidos = list(map(int, numeros))  # converte cada item para int\n",
        "\n",
        "print(\"Números lidos:\", numeros_convertidos)\n",
        "print(\"Número máximo:\", max(numeros_convertidos))\n",
        "print(\"Número mínimo:\", min(numeros_convertidos))\n"
      ],
      "metadata": {
        "colab": {
          "base_uri": "https://localhost:8080/"
        },
        "id": "33T2hqnL1N-3",
        "outputId": "258ecca5-c490-486b-c098-1320d790a20e"
      },
      "execution_count": null,
      "outputs": [
        {
          "output_type": "stream",
          "name": "stdout",
          "text": [
            "Números lidos: [163]\n",
            "Número máximo: 163\n",
            "Número mínimo: 163\n"
          ]
        }
      ]
    },
    {
      "cell_type": "markdown",
      "source": [
        "## Nível Intermediário – Reutilizando e organizando código"
      ],
      "metadata": {
        "id": "8xev1TqfqJ4l"
      }
    },
    {
      "cell_type": "markdown",
      "source": [
        "Aqui, o objetivo é não repetir código e aprender a organizar funções em módulos.\n",
        "\n",
        "### Exercício 3 – Frases motivacionais do ano (usando random)"
      ],
      "metadata": {
        "id": "_BlXz9o9qPML"
      }
    },
    {
      "cell_type": "markdown",
      "source": [
        "Uma empresa quer criar um sistema que sorteia uma frase motivacional por dia para seus funcionários.\n",
        "\n",
        "1. Gere o arquivo `frases.txt`, que contém 31 frases (uma para cada dia do mês).\n",
        "\n",
        "2. Escreva um programa que:\n",
        "\n",
        "a. Leia todas as frases do arquivo.\n",
        "\n",
        "b. Sorteie uma frase usando `random.choice`.\n",
        "\n",
        "c. Exiba a frase na tela.\n",
        "\n",
        "👉 Esse exercício mostra como reaproveitar grandes arquivos de texto em aplicações do dia a dia."
      ],
      "metadata": {
        "id": "mHp2D5FrFdVL"
      }
    },
    {
      "cell_type": "code",
      "source": [
        "# @title\n",
        "# Gera um arquivo frases.txt com 31 frases diferentes (sem numeração explícita).\n",
        "\n",
        "frases_diferentes = [\n",
        "    \"Acredite no seu potencial.\",\n",
        "    \"Você é mais forte do que imagina.\",\n",
        "    \"Cada dia é uma nova chance para recomeçar.\",\n",
        "    \"Pequenos passos também levam ao sucesso.\",\n",
        "    \"Confie no processo e siga em frente.\",\n",
        "    \"O aprendizado vem com a prática.\",\n",
        "    \"Não tenha medo de errar, tenha medo de não tentar.\",\n",
        "    \"A persistência supera o talento.\",\n",
        "    \"O impossível é apenas o possível que ainda não foi feito.\",\n",
        "    \"Você é capaz de coisas incríveis.\",\n",
        "    \"Celebre cada conquista, por menor que seja.\",\n",
        "    \"A jornada é tão importante quanto o destino.\",\n",
        "    \"A disciplina leva à liberdade.\",\n",
        "    \"Grandes mudanças começam com pequenas atitudes.\",\n",
        "    \"Seja constante, mesmo nos dias difíceis.\",\n",
        "    \"A coragem é o primeiro passo para a vitória.\",\n",
        "    \"Aprenda com os erros e siga adiante.\",\n",
        "    \"O sucesso é a soma de pequenos esforços repetidos diariamente.\",\n",
        "    \"Não espere motivação, crie disciplina.\",\n",
        "    \"Acredite: você já percorreu um longo caminho.\",\n",
        "    \"Foque no progresso, não na perfeição.\",\n",
        "    \"Sonhos grandes exigem esforço constante.\",\n",
        "    \"Não desista antes de tentar todas as possibilidades.\",\n",
        "    \"Você pode inspirar outras pessoas com sua dedicação.\",\n",
        "    \"Cada desafio é uma oportunidade disfarçada.\",\n",
        "    \"Nunca é tarde para aprender algo novo.\",\n",
        "    \"O futuro depende do que você faz hoje.\",\n",
        "    \"Seja paciente com seu crescimento.\",\n",
        "    \"Tenha orgulho de cada passo que você dá.\",\n",
        "    \"A determinação abre portas que o medo fecha.\",\n",
        "    \"Você já tem tudo o que precisa para começar.\"\n",
        "]\n",
        "\n",
        "# Salvando em frases.txt\n",
        "file_path_31 = \"frases.txt\"\n",
        "with open(file_path_31, \"w\", encoding=\"utf-8\") as f:\n",
        "    for frase in frases_diferentes:\n",
        "        f.write(frase + \"\\n\")\n",
        "\n",
        "file_path_31\n"
      ],
      "metadata": {
        "colab": {
          "base_uri": "https://localhost:8080/",
          "height": 35
        },
        "id": "mEroBshH2nz5",
        "outputId": "b3147cb0-6035-4118-b554-b5a566154668"
      },
      "execution_count": null,
      "outputs": [
        {
          "output_type": "execute_result",
          "data": {
            "text/plain": [
              "'frases.txt'"
            ],
            "application/vnd.google.colaboratory.intrinsic+json": {
              "type": "string"
            }
          },
          "metadata": {},
          "execution_count": 37
        }
      ]
    },
    {
      "cell_type": "code",
      "source": [
        "import random\n",
        "\n",
        "with open (\"frases.txt\", \"r\", encoding=\"utf-8\") as f:\n",
        "  frases = f.readlines()\n",
        "\n",
        "frase_sorteada = random.choice(frases)\n",
        "\n",
        "print(frase_sorteada)"
      ],
      "metadata": {
        "colab": {
          "base_uri": "https://localhost:8080/"
        },
        "id": "CczeHUNW22aD",
        "outputId": "e243a804-1e31-4b1b-cacb-b64fdaf954f8"
      },
      "execution_count": null,
      "outputs": [
        {
          "output_type": "stream",
          "name": "stdout",
          "text": [
            "O aprendizado vem com a prática.\n",
            "\n"
          ]
        }
      ]
    },
    {
      "cell_type": "markdown",
      "source": [
        "### Exercício 4 – Criando um módulo de utilidades para arquivos"
      ],
      "metadata": {
        "id": "lVZ1IK8Wq7IW"
      }
    },
    {
      "cell_type": "markdown",
      "source": [
        "Agora que já temos vários arquivos (`alunas.txt`, `numeros.txt`, `frases.txt`), vamos criar um **módulo** arquivos.py para facilitar a manipulação de arquivos.\n",
        "\n",
        "1. Esse módulo deve conter as seguintes funções:\n",
        "\n",
        "- `contar_caracteres(nome_arquivo)` → devolve o número total de caracteres do arquivo.\n",
        "\n",
        "- `contar_palavras(nome_arquivo)` → devolve a quantidade total de palavras no arquivo.\n",
        "\n",
        "- `ler_conteudo(nome_arquivo, qtd_linhas)` → lê e devolve apenas as primeiras N linhas do arquivo (N é definido pelo usuário).\n",
        "\n",
        "2. Teste cada função do módulo com os arquivos criados (`alunas.txt`, `numeros.txt`, `frases.txt`).\n",
        "\n",
        "👉 Isso mostra como modularizar código ajuda a organizar programas maiores."
      ],
      "metadata": {
        "id": "8rsBZ7wzFasN"
      }
    },
    {
      "cell_type": "code",
      "source": [
        "%%writefile arquivo.py\n",
        "\n",
        "def contar_caracteres(nome_arquivo):\n",
        "    with open(nome_arquivo, \"r\", encoding=\"utf-8\") as f:\n",
        "        conteudo = f.read()\n",
        "        x = len(conteudo)\n",
        "        print(\"Quantidade de caracteres é:\", x)\n",
        "\n",
        "def contar_palavras(nome_arquivo):\n",
        "    with open(nome_arquivo, \"r\", encoding=\"utf-8\") as f:\n",
        "        conteudo = f.read()\n",
        "    x = len(conteudo.split())\n",
        "    print(\"Quantidade de palavras:\", x)\n",
        "\n",
        "def ler_conteudo(nome_arquivo, qtd_linhas):\n",
        "    linhas = []\n",
        "    with open(nome_arquivo, \"r\", encoding=\"utf-8\") as f:\n",
        "        for i in range(qtd_linhas):\n",
        "            linha = f.readline()\n",
        "            if not linha:\n",
        "                break\n",
        "            linhas.append(linha.strip())\n",
        "    print(\"Linhas lidas:\", linhas)\n"
      ],
      "metadata": {
        "colab": {
          "base_uri": "https://localhost:8080/"
        },
        "id": "E0fl28E5DBvM",
        "outputId": "bf3e1ca2-c7f9-41b3-b17d-5fdf88be39b3"
      },
      "execution_count": null,
      "outputs": [
        {
          "output_type": "stream",
          "name": "stdout",
          "text": [
            "Overwriting arquivo.py\n"
          ]
        }
      ]
    },
    {
      "cell_type": "code",
      "source": [
        "import arquivo"
      ],
      "metadata": {
        "id": "iRqIgL8SCRYk"
      },
      "execution_count": null,
      "outputs": []
    },
    {
      "cell_type": "code",
      "source": [
        "print(arquivo.contar_caracteres(\"frases.txt\"))"
      ],
      "metadata": {
        "colab": {
          "base_uri": "https://localhost:8080/"
        },
        "id": "i1j_B3caCkP5",
        "outputId": "6a1e5ff3-5c54-47d2-dbab-003b837dd7a7"
      },
      "execution_count": null,
      "outputs": [
        {
          "output_type": "stream",
          "name": "stdout",
          "text": [
            "Quantidade de caracteres é: 1303\n",
            "None\n"
          ]
        }
      ]
    },
    {
      "cell_type": "code",
      "source": [
        "import arquivo\n",
        "import importlib\n",
        "\n",
        "importlib.reload(arquivo)\n",
        "\n",
        "arquivo.contar_palavras(\"frases.txt\")\n"
      ],
      "metadata": {
        "colab": {
          "base_uri": "https://localhost:8080/"
        },
        "id": "AKG61sFXCr65",
        "outputId": "a12d0123-7eef-475a-ddfd-ec6d97fb1dee"
      },
      "execution_count": null,
      "outputs": [
        {
          "output_type": "stream",
          "name": "stdout",
          "text": [
            "Quantidade de palavras: 218\n"
          ]
        }
      ]
    },
    {
      "cell_type": "code",
      "source": [
        "arquivo.ler_conteudo(\"numeros.txt\", 5)\n"
      ],
      "metadata": {
        "colab": {
          "base_uri": "https://localhost:8080/"
        },
        "id": "3fSD9X76DYUa",
        "outputId": "106704b2-fc0d-44ee-d891-f7b8e9e40e74"
      },
      "execution_count": null,
      "outputs": [
        {
          "output_type": "stream",
          "name": "stdout",
          "text": [
            "Linhas lidas: ['163', '128', '807', '529', '447']\n"
          ]
        }
      ]
    },
    {
      "cell_type": "markdown",
      "source": [
        "## Nível Avançado – Buscando informações na web"
      ],
      "metadata": {
        "id": "g1tr4FYlrYjN"
      }
    },
    {
      "cell_type": "markdown",
      "source": [
        "### Exercício 5 – Criando um módulo coletor de notícias (usando requests + BeautifulSoup)"
      ],
      "metadata": {
        "id": "IiJ7w4Yz-muh"
      }
    },
    {
      "cell_type": "markdown",
      "source": [
        "Você foi convidado a desenvolver um coletor de manchetes para um portal de notícias.\n",
        "\n",
        "1. Crie um módulo chamado coletor.py com pelo menos 4 funções:\n",
        "\n",
        "- `coletar_noticias(url)` → acessa a página indicada com requests e usa BeautifulSoup para coletar o título e o texto da nóticia. Cria um arquivo para salvar a noticia. Adiciona o título da noticia em um arquivo `noticias.txt`.\n",
        "\n",
        "- `ler_titulos(nome_arquivo)` → lê os títulos salvos e devolve como lista.\n",
        "\n",
        "- `gerar_relatorio()` → lê o arquivo `noticias.txt`, cria um relatório com: número total de títulos coletados; quantidade de palavras por título.\n",
        "Salve relatório em `relatorio.txt`.\n",
        "\n",
        "👉 Você pode usar como exemplo para raspagem o site: https://quotes.toscrape.com\n",
        "\n",
        "👉 Esse exercício mostra como Python pode ser usado em aplicações reais de web scraping e análise de texto."
      ],
      "metadata": {
        "id": "EhO1lVrBFhdQ"
      }
    },
    {
      "cell_type": "code",
      "source": [
        "%%writefile coletor.py\n",
        "\n",
        "import requests\n",
        "from bs4 import BeautifulSoup\n",
        "\n",
        "def coletar_noticias(url: str):\n",
        "    response = requests.get(url)\n",
        "    if response.status_code != 200:\n",
        "        print(f\"Erro ao acessar {url}: {response.status_code}\")\n",
        "\n",
        "    html = response.text\n",
        "    soup = BeautifulSoup(html, 'html.parser')\n",
        "\n",
        "    # Buscando todos os elementos que contêm os títulos das notícias\n",
        "    titulos = soup.find_all('h2', class_='post__title')\n",
        "\n",
        "    # Extraindo os textos\n",
        "    return [titulo.text.strip() for titulo in titulos]\n"
      ],
      "metadata": {
        "id": "3NEzSZtTt0nt",
        "colab": {
          "base_uri": "https://localhost:8080/"
        },
        "outputId": "c3008a5c-a1ba-4bcf-c431-bc30c41817d3"
      },
      "execution_count": null,
      "outputs": [
        {
          "output_type": "stream",
          "name": "stdout",
          "text": [
            "Overwriting coletor.py\n"
          ]
        }
      ]
    },
    {
      "cell_type": "code",
      "source": [
        "import coletor"
      ],
      "metadata": {
        "id": "kzYL_XBgeSTV"
      },
      "execution_count": null,
      "outputs": []
    },
    {
      "cell_type": "code",
      "source": [
        "coletor.coletar_noticias('https://www25.senado.leg.br/web/atividade')"
      ],
      "metadata": {
        "colab": {
          "base_uri": "https://localhost:8080/"
        },
        "id": "Lt9v0-HyZYQx",
        "outputId": "979ef037-7db9-4240-fda9-eadd71947719"
      },
      "execution_count": null,
      "outputs": [
        {
          "output_type": "execute_result",
          "data": {
            "text/plain": [
              "[]"
            ]
          },
          "metadata": {},
          "execution_count": 15
        }
      ]
    }
  ]
}