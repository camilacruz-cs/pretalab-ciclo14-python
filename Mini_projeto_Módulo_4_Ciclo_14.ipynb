{
  "nbformat": 4,
  "nbformat_minor": 0,
  "metadata": {
    "colab": {
      "provenance": [],
      "include_colab_link": true
    },
    "kernelspec": {
      "name": "python3",
      "display_name": "Python 3"
    },
    "language_info": {
      "name": "python"
    }
  },
  "cells": [
    {
      "cell_type": "markdown",
      "metadata": {
        "id": "view-in-github",
        "colab_type": "text"
      },
      "source": [
        "<a href=\"https://colab.research.google.com/github/camilacruz-cs/pretalab-ciclo14-python/blob/main/Mini_projeto_M%C3%B3dulo_4_Ciclo_14.ipynb\" target=\"_parent\"><img src=\"https://colab.research.google.com/assets/colab-badge.svg\" alt=\"Open In Colab\"/></a>"
      ]
    },
    {
      "cell_type": "markdown",
      "source": [
        "#Mini-projeto: Lidando com Bancos de Dados"
      ],
      "metadata": {
        "id": "WTV5Cp_BvR-r"
      }
    },
    {
      "cell_type": "markdown",
      "source": [
        "Nesta tarefa, você deverá desenvolver um mini-projeto em Python utilizando SQLite3, colocando em prática os conceitos de criação e manipulação de dados em um banco relacional.\n",
        "\n",
        "\n",
        "## Objetivo da atividade\n",
        "\n",
        "* Verificar se você compreende como:\n",
        "\n",
        "* Criar tabelas em SQLite;\n",
        "\n",
        "* Inserir dados em um banco de dados;\n",
        "\n",
        "* Consultar registros de diferentes formas;\n",
        "\n",
        "* Atualizar informações já cadastradas;\n",
        "\n",
        "* Excluir registros de uma tabela.\n",
        "\n",
        "## Formato e Data de Entrega\n",
        "\n",
        "**Você deve enviar o link para um Google Colab até o dia 28/09.**\n",
        "\n",
        "## Critérios de avaliação\n",
        "\n",
        "* Banco criado corretamente, com a estrutura definida.\n",
        "\n",
        "* Inserção correta de pelo menos 50 registros.\n",
        "\n",
        "* Consultas SQL funcionando.\n",
        "\n",
        "* Atualizações realizadas corretamente.\n",
        "\n",
        "* Exclusões funcionando sem erros.\n",
        "\n",
        "* Organização e clareza do código."
      ],
      "metadata": {
        "id": "XY-IUTsBvVlr"
      }
    },
    {
      "cell_type": "markdown",
      "source": [
        "## O que deve ser feito"
      ],
      "metadata": {
        "id": "T9azQsBIvYe1"
      }
    },
    {
      "cell_type": "markdown",
      "source": [
        "### 1. Criar a tabela\n",
        "\n",
        "* Nome: alunas.\n",
        "\n",
        "* Colunas obrigatórias:\n",
        "\n",
        "- id (inteiro, chave primária, autoincremento)\n",
        "\n",
        "- nome (texto, obrigatório)\n",
        "\n",
        "- email (texto, único, obrigatório)\n",
        "\n",
        "- data_nascimento (data, obrigatório)\n",
        "\n",
        "- data_cadastro (data/hora, com valor padrão atual)."
      ],
      "metadata": {
        "id": "nTN0Sdtewf-3"
      }
    },
    {
      "cell_type": "code",
      "source": [
        "import sqlite3"
      ],
      "metadata": {
        "id": "TH4GpKsyvyV1"
      },
      "execution_count": null,
      "outputs": []
    },
    {
      "cell_type": "code",
      "source": [
        "con = sqlite3.connect(\"escola.db\")\n",
        "cur = con.cursor()"
      ],
      "metadata": {
        "id": "zZ3e2-G-AA5i"
      },
      "execution_count": null,
      "outputs": []
    },
    {
      "cell_type": "code",
      "source": [
        "cur.execute(\"\"\"\n",
        "CREATE TABLE IF NOT EXISTS alunas (\n",
        "    id INTEGER PRIMARY KEY AUTOINCREMENT,\n",
        "    nome TEXT NOT NULL,\n",
        "    email TEXT NOT NULL,\n",
        "    data_nascimento DATE NOT NULL,\n",
        "   data_cadastro DATE NOT NULL\n",
        ");\n",
        "\"\"\")\n",
        "\n",
        "con.commit()"
      ],
      "metadata": {
        "id": "9S940YTwAov6"
      },
      "execution_count": null,
      "outputs": []
    },
    {
      "cell_type": "markdown",
      "source": [
        "### 2. Inserir registros\n",
        "\n",
        "* Inserir pelo menos 50 alunas diferentes na tabela, preenchendo todos os campos obrigatórios."
      ],
      "metadata": {
        "id": "iMkomBb_vynv"
      }
    },
    {
      "cell_type": "code",
      "source": [
        "alunas = [\n",
        "\n",
        "('Ana Souza', 'ana.souza1@email.com', '1995-03-12', '2025-01-10'),\n",
        "('Beatriz Lima', 'beatriz.lima@email.com', '1994-07-21', '2025-01-11'),\n",
        "('Camila Rocha', 'camila.rocha@email.com', '1997-02-18', '2025-01-12'),\n",
        "('Daniela Ferreira', 'daniela.ferreira@email.com', '1993-09-05', '2025-01-13'),\n",
        "('Eduarda Martins', 'eduarda.martins@email.com', '1998-12-01', '2025-01-14'),\n",
        "('Fernanda Alves', 'fernanda.alves@email.com', '1992-11-25', '2025-01-15'),\n",
        "('Gabriela Ramos', 'gabriela.ramos@email.com', '1996-05-08', '2025-01-16'),\n",
        "('Helena Castro', 'helena.castro@email.com', '1999-06-19', '2025-01-17'),\n",
        "('Isabela Pires', 'isabela.pires@email.com', '1995-10-30', '2025-01-18'),\n",
        "('Juliana Cardoso', 'juliana.cardoso@email.com', '1997-04-14', '2025-01-19'),\n",
        "('Karina Melo', 'karina.melo@email.com', '1993-08-23', '2025-01-20'),\n",
        "('Larissa Gomes', 'larissa.gomes@email.com', '1994-02-10', '2025-01-21'),\n",
        "('Mariana Figueiredo', 'mariana.figueiredo@email.com', '1996-01-28', '2025-01-22'),\n",
        "('Natália Duarte', 'natalia.duarte@email.com', '1992-09-17', '2025-01-23'),\n",
        "('Olívia Teixeira', 'olivia.teixeira@email.com', '1999-03-25', '2025-01-24'),\n",
        "('Patrícia Correia', 'patricia.correia@email.com', '1998-11-03', '2025-01-25'),\n",
        "('Rafaela Nunes', 'rafaela.nunes@email.com', '1995-05-27', '2025-01-26'),\n",
        "('Sabrina Torres', 'sabrina.torres@email.com', '1997-07-16', '2025-01-27'),\n",
        "('Tatiane Barros', 'tatiane.barros@email.com', '1994-06-09', '2025-01-28'),\n",
        "('Vanessa Cunha', 'vanessa.cunha@email.com', '1993-12-20', '2025-01-29'),\n",
        "('Aline Moura', 'aline.moura@email.com', '1996-10-05', '2025-01-30'),\n",
        "('Bianca Lopes', 'bianca.lopes@email.com', '1997-09-12', '2025-01-31'),\n",
        "('Carolina Silva', 'carolina.silva@email.com', '1995-11-07', '2025-02-01'),\n",
        "('Débora Moreira', 'debora.moreira@email.com', '1992-01-19', '2025-02-02'),\n",
        "('Elaine Tavares', 'elaine.tavares@email.com', '1993-05-30', '2025-02-03'),\n",
        "('Fabiana Duarte', 'fabiana.duarte@email.com', '1999-04-25', '2025-02-04'),\n",
        "('Geovana Carvalho', 'geovana.carvalho@email.com', '1994-07-02', '2025-02-05'),\n",
        "('Heloísa Mendes', 'heloisa.mendes@email.com', '1998-08-14', '2025-02-06'),\n",
        "('Irene Costa', 'irene.costa@email.com', '1997-06-22', '2025-02-07'),\n",
        "('Joana Paiva', 'joana.paiva@email.com', '1995-09-03', '2025-02-08'),\n",
        "('Kelly Barbosa', 'kelly.barbosa@email.com', '1996-02-17', '2025-02-09'),\n",
        "('Larissa Monteiro', 'larissa.monteiro@email.com', '1999-12-29', '2025-02-10'),\n",
        "('Michele Freitas', 'michele.freitas@email.com', '1993-03-11', '2025-02-11'),\n",
        "('Nicole Vieira', 'nicole.vieira@email.com', '1995-04-01', '2025-02-12'),\n",
        "('Priscila Souza', 'priscila.souza@email.com', '1997-08-20', '2025-02-13'),\n",
        "('Renata Oliveira', 'renata.oliveira@email.com', '1994-09-15', '2025-02-14'),\n",
        "('Simone Ribeiro', 'simone.ribeiro@email.com', '1996-05-19', '2025-02-15'),\n",
        "('Talita Andrade', 'talita.andrade@email.com', '1998-06-27', '2025-02-16'),\n",
        "('Vitória Araújo', 'vitoria.araujo@email.com', '1999-01-09', '2025-02-17'),\n",
        "('Yasmin Lima', 'yasmin.lima@email.com', '1995-02-28', '2025-02-18'),\n",
        "('Adriana Pacheco', 'adriana.pacheco@email.com', '1993-11-22', '2025-02-19'),\n",
        "('Bruna Santana', 'bruna.santana@email.com', '1997-12-04', '2025-02-20'),\n",
        "('Cláudia Batista', 'claudia.batista@email.com', '1996-08-07', '2025-02-21'),\n",
        "('Daniela Coelho', 'daniela.coelho@email.com', '1998-03-15', '2025-02-22'),\n",
        "('Estela Nascimento', 'estela.nascimento@email.com', '1999-07-10', '2025-02-23'),\n",
        "('Flávia Lopes', 'flavia.lopes@email.com', '1994-05-28', '2025-02-24'),\n",
        "('Graziella Campos', 'graziella.campos@email.com', '1995-09-06', '2025-02-25'),\n",
        "('Hellen Dias', 'hellen.dias@email.com', '1992-02-13', '2025-02-26'),\n",
        "('Ivana Peixoto', 'ivana.peixoto@email.com', '1996-01-02', '2025-02-27'),\n",
        "('Jéssica Prado', 'jessica.prado@email.com', '1997-04-30', '2025-02-28'),\n",
        "('Amanda Farias', 'amanda.farias@email.com', '2000-01-15', '2025-03-01'),\n",
        "('Brenda Martins', 'brenda.martins@email.com', '2000-06-27', '2025-03-02'),\n",
        "('Caroline Nogueira', 'caroline.nogueira@email.com', '2001-03-09', '2025-03-03'),\n",
        "('Diana Rocha', 'diana.rocha@email.com', '2001-09-21', '2025-03-04'),\n",
        "('Evelyn Freire', 'evelyn.freire@email.com', '2002-05-14', '2025-03-05'),\n",
        "('Fernanda Silva', 'fernanda.silva2002@email.com', '2002-11-30', '2025-03-06'),\n",
        "('Giovanna Pires', 'giovanna.pires@email.com', '2003-02-18', '2025-03-07'),\n",
        "('Heloisa Fernandes', 'heloisa.fernandes@email.com', '2003-07-12', '2025-03-08'),\n",
        "('Isis Moraes', 'isis.moraes@email.com', '2003-10-05', '2025-03-09'),\n",
        "('Juliana Brito', 'juliana.brito@email.com', '2004-04-22', '2025-03-10'),\n",
        "('Katarina Lopes', 'katarina.lopes@email.com', '2004-08-17', '2025-03-11'),\n",
        "('Larissa Ribeiro', 'larissa.ribeiro@email.com', '2004-12-03', '2025-03-12'),\n",
        "('Marina Santos', 'marina.santos@email.com', '2005-01-09', '2025-03-13'),\n",
        "('Nathalia Guimarães', 'nathalia.guimaraes@email.com', '2005-03-15', '2025-03-14'),\n",
        "('Olivia Costa', 'olivia.costa@email.com', '2005-06-29', '2025-03-15'),\n",
        "('Patricia Duarte', 'patricia.duarte@email.com', '2005-08-21', '2025-03-16'),\n",
        "('Queila Azevedo', 'queila.azevedo@email.com', '2000-10-30', '2025-03-17'),\n",
        "('Rafaela Lemos', 'rafaela.lemos@email.com', '2001-12-25', '2025-03-18'),\n",
        "('Sara Machado', 'sara.machado@email.com', '2002-09-14', '2025-03-19'),\n",
        "('Thais Correia', 'thais.correia@email.com', '2003-11-11', '2025-03-20')\n",
        "\n",
        "]\n",
        "cur.executemany(\"INSERT OR REPLACE INTO alunas (nome, email, data_nascimento, data_cadastro) VALUES (?, ?, ?, ?)\", alunas)"
      ],
      "metadata": {
        "id": "F-WUwpLnv1u9",
        "colab": {
          "base_uri": "https://localhost:8080/"
        },
        "outputId": "af8b03cf-9d45-448f-ed28-4e64fc88bc99"
      },
      "execution_count": null,
      "outputs": [
        {
          "output_type": "execute_result",
          "data": {
            "text/plain": [
              "<sqlite3.Cursor at 0x7fc687e6cd40>"
            ]
          },
          "metadata": {},
          "execution_count": 21
        }
      ]
    },
    {
      "cell_type": "markdown",
      "source": [
        "### 3. Consultar registros\n",
        "\n",
        "* Listar todas as alunas cadastradas com SELECT * FROM alunas.\n",
        "\n",
        "* Consultar apenas alunas nascidas após o ano 2000.\n",
        "\n",
        "* Consultar alunas filtrando pelo nome ou email (usando WHERE)."
      ],
      "metadata": {
        "id": "RCNX2Ubfv13y"
      }
    },
    {
      "cell_type": "code",
      "source": [
        "print(\"Alunas: \")\n",
        "for row in cur.execute(\"SELECT * FROM alunas\"):\n",
        "    print(row)\n"
      ],
      "metadata": {
        "id": "XMwxAmOuv4CW",
        "colab": {
          "base_uri": "https://localhost:8080/"
        },
        "outputId": "07160fc8-688d-4153-c01b-9c6937c0e511"
      },
      "execution_count": null,
      "outputs": [
        {
          "output_type": "stream",
          "name": "stdout",
          "text": [
            "Alunas: \n",
            "(1, 'Ana Souza', 'ana.souza1@email.com', '1995-03-12', '2025-01-10')\n",
            "(2, 'Beatriz Lima', 'beatriz.lima@email.com', '1994-07-21', '2025-01-11')\n",
            "(3, 'Camila Rocha', 'camila.rocha@email.com', '1997-02-18', '2025-01-12')\n",
            "(4, 'Daniela Ferreira', 'daniela.ferreira@email.com', '1993-09-05', '2025-01-13')\n",
            "(5, 'Eduarda Martins', 'eduarda.martins@email.com', '1998-12-01', '2025-01-14')\n",
            "(6, 'Fernanda Alves', 'fernanda.alves@email.com', '1992-11-25', '2025-01-15')\n",
            "(7, 'Gabriela Ramos', 'gabriela.ramos@email.com', '1996-05-08', '2025-01-16')\n",
            "(8, 'Helena Castro', 'helena.castro@email.com', '1999-06-19', '2025-01-17')\n",
            "(9, 'Isabela Pires', 'isabela.pires@email.com', '1995-10-30', '2025-01-18')\n",
            "(10, 'Juliana Cardoso', 'juliana.cardoso@email.com', '1997-04-14', '2025-01-19')\n",
            "(11, 'Karina Melo', 'karina.melo@email.com', '1993-08-23', '2025-01-20')\n",
            "(12, 'Larissa Gomes', 'larissa.gomes@email.com', '1994-02-10', '2025-01-21')\n",
            "(13, 'Mariana Figueiredo', 'mariana.figueiredo@email.com', '1996-01-28', '2025-01-22')\n",
            "(14, 'Natália Duarte', 'natalia.duarte@email.com', '1992-09-17', '2025-01-23')\n",
            "(15, 'Olívia Teixeira', 'olivia.teixeira@email.com', '1999-03-25', '2025-01-24')\n",
            "(16, 'Patrícia Correia', 'patricia.correia@email.com', '1998-11-03', '2025-01-25')\n",
            "(17, 'Rafaela Nunes', 'rafaela.nunes@email.com', '1995-05-27', '2025-01-26')\n",
            "(18, 'Sabrina Torres', 'sabrina.torres@email.com', '1997-07-16', '2025-01-27')\n",
            "(19, 'Tatiane Barros', 'tatiane.barros@email.com', '1994-06-09', '2025-01-28')\n",
            "(20, 'Vanessa Cunha', 'vanessa.cunha@email.com', '1993-12-20', '2025-01-29')\n",
            "(21, 'Aline Moura', 'aline.moura@email.com', '1996-10-05', '2025-01-30')\n",
            "(22, 'Bianca Lopes', 'bianca.lopes@email.com', '1997-09-12', '2025-01-31')\n",
            "(23, 'Carolina Silva', 'carolina.silva@email.com', '1995-11-07', '2025-02-01')\n",
            "(24, 'Débora Moreira', 'debora.moreira@email.com', '1992-01-19', '2025-02-02')\n",
            "(25, 'Elaine Tavares', 'elaine.tavares@email.com', '1993-05-30', '2025-02-03')\n",
            "(26, 'Fabiana Duarte', 'fabiana.duarte@email.com', '1999-04-25', '2025-02-04')\n",
            "(27, 'Geovana Carvalho', 'geovana.carvalho@email.com', '1994-07-02', '2025-02-05')\n",
            "(28, 'Heloísa Mendes', 'heloisa.mendes@email.com', '1998-08-14', '2025-02-06')\n",
            "(29, 'Irene Costa', 'irene.costa@email.com', '1997-06-22', '2025-02-07')\n",
            "(30, 'Joana Paiva', 'joana.paiva@email.com', '1995-09-03', '2025-02-08')\n",
            "(31, 'Kelly Barbosa', 'kelly.barbosa@email.com', '1996-02-17', '2025-02-09')\n",
            "(32, 'Larissa Monteiro', 'larissa.monteiro@email.com', '1999-12-29', '2025-02-10')\n",
            "(33, 'Michele Freitas', 'michele.freitas@email.com', '1993-03-11', '2025-02-11')\n",
            "(34, 'Nicole Vieira', 'nicole.vieira@email.com', '1995-04-01', '2025-02-12')\n",
            "(35, 'Priscila Souza', 'priscila.souza@email.com', '1997-08-20', '2025-02-13')\n",
            "(36, 'Renata Oliveira', 'renata.oliveira@email.com', '1994-09-15', '2025-02-14')\n",
            "(37, 'Simone Ribeiro', 'simone.ribeiro@email.com', '1996-05-19', '2025-02-15')\n",
            "(38, 'Talita Andrade', 'talita.andrade@email.com', '1998-06-27', '2025-02-16')\n",
            "(39, 'Vitória Araújo', 'vitoria.araujo@email.com', '1999-01-09', '2025-02-17')\n",
            "(40, 'Yasmin Lima', 'yasmin.lima@email.com', '1995-02-28', '2025-02-18')\n",
            "(41, 'Adriana Pacheco', 'adriana.pacheco@email.com', '1993-11-22', '2025-02-19')\n",
            "(42, 'Bruna Santana', 'bruna.santana@email.com', '1997-12-04', '2025-02-20')\n",
            "(43, 'Cláudia Batista', 'claudia.batista@email.com', '1996-08-07', '2025-02-21')\n",
            "(44, 'Daniela Coelho', 'daniela.coelho@email.com', '1998-03-15', '2025-02-22')\n",
            "(45, 'Estela Nascimento', 'estela.nascimento@email.com', '1999-07-10', '2025-02-23')\n",
            "(46, 'Flávia Lopes', 'flavia.lopes@email.com', '1994-05-28', '2025-02-24')\n",
            "(47, 'Graziella Campos', 'graziella.campos@email.com', '1995-09-06', '2025-02-25')\n",
            "(48, 'Hellen Dias', 'hellen.dias@email.com', '1992-02-13', '2025-02-26')\n",
            "(49, 'Ivana Peixoto', 'ivana.peixoto@email.com', '1996-01-02', '2025-02-27')\n",
            "(50, 'Jéssica Prado', 'jessica.prado@email.com', '1997-04-30', '2025-02-28')\n",
            "(51, 'Ana Souza', 'ana.souza1@email.com', '1995-03-12', '2025-01-10')\n",
            "(52, 'Beatriz Lima', 'beatriz.lima@email.com', '1994-07-21', '2025-01-11')\n",
            "(53, 'Camila Rocha', 'camila.rocha@email.com', '1997-02-18', '2025-01-12')\n",
            "(54, 'Daniela Ferreira', 'daniela.ferreira@email.com', '1993-09-05', '2025-01-13')\n",
            "(55, 'Eduarda Martins', 'eduarda.martins@email.com', '1998-12-01', '2025-01-14')\n",
            "(56, 'Fernanda Alves', 'fernanda.alves@email.com', '1992-11-25', '2025-01-15')\n",
            "(57, 'Gabriela Ramos', 'gabriela.ramos@email.com', '1996-05-08', '2025-01-16')\n",
            "(58, 'Helena Castro', 'helena.castro@email.com', '1999-06-19', '2025-01-17')\n",
            "(59, 'Isabela Pires', 'isabela.pires@email.com', '1995-10-30', '2025-01-18')\n",
            "(60, 'Juliana Cardoso', 'juliana.cardoso@email.com', '1997-04-14', '2025-01-19')\n",
            "(61, 'Karina Melo', 'karina.melo@email.com', '1993-08-23', '2025-01-20')\n",
            "(62, 'Larissa Gomes', 'larissa.gomes@email.com', '1994-02-10', '2025-01-21')\n",
            "(63, 'Mariana Figueiredo', 'mariana.figueiredo@email.com', '1996-01-28', '2025-01-22')\n",
            "(64, 'Natália Duarte', 'natalia.duarte@email.com', '1992-09-17', '2025-01-23')\n",
            "(65, 'Olívia Teixeira', 'olivia.teixeira@email.com', '1999-03-25', '2025-01-24')\n",
            "(66, 'Patrícia Correia', 'patricia.correia@email.com', '1998-11-03', '2025-01-25')\n",
            "(67, 'Rafaela Nunes', 'rafaela.nunes@email.com', '1995-05-27', '2025-01-26')\n",
            "(68, 'Sabrina Torres', 'sabrina.torres@email.com', '1997-07-16', '2025-01-27')\n",
            "(69, 'Tatiane Barros', 'tatiane.barros@email.com', '1994-06-09', '2025-01-28')\n",
            "(70, 'Vanessa Cunha', 'vanessa.cunha@email.com', '1993-12-20', '2025-01-29')\n",
            "(71, 'Aline Moura', 'aline.moura@email.com', '1996-10-05', '2025-01-30')\n",
            "(72, 'Bianca Lopes', 'bianca.lopes@email.com', '1997-09-12', '2025-01-31')\n",
            "(73, 'Carolina Silva', 'carolina.silva@email.com', '1995-11-07', '2025-02-01')\n",
            "(74, 'Débora Moreira', 'debora.moreira@email.com', '1992-01-19', '2025-02-02')\n",
            "(75, 'Elaine Tavares', 'elaine.tavares@email.com', '1993-05-30', '2025-02-03')\n",
            "(76, 'Fabiana Duarte', 'fabiana.duarte@email.com', '1999-04-25', '2025-02-04')\n",
            "(77, 'Geovana Carvalho', 'geovana.carvalho@email.com', '1994-07-02', '2025-02-05')\n",
            "(78, 'Heloísa Mendes', 'heloisa.mendes@email.com', '1998-08-14', '2025-02-06')\n",
            "(79, 'Irene Costa', 'irene.costa@email.com', '1997-06-22', '2025-02-07')\n",
            "(80, 'Joana Paiva', 'joana.paiva@email.com', '1995-09-03', '2025-02-08')\n",
            "(81, 'Kelly Barbosa', 'kelly.barbosa@email.com', '1996-02-17', '2025-02-09')\n",
            "(82, 'Larissa Monteiro', 'larissa.monteiro@email.com', '1999-12-29', '2025-02-10')\n",
            "(83, 'Michele Freitas', 'michele.freitas@email.com', '1993-03-11', '2025-02-11')\n",
            "(84, 'Nicole Vieira', 'nicole.vieira@email.com', '1995-04-01', '2025-02-12')\n",
            "(85, 'Priscila Souza', 'priscila.souza@email.com', '1997-08-20', '2025-02-13')\n",
            "(86, 'Renata Oliveira', 'renata.oliveira@email.com', '1994-09-15', '2025-02-14')\n",
            "(87, 'Simone Ribeiro', 'simone.ribeiro@email.com', '1996-05-19', '2025-02-15')\n",
            "(88, 'Talita Andrade', 'talita.andrade@email.com', '1998-06-27', '2025-02-16')\n",
            "(89, 'Vitória Araújo', 'vitoria.araujo@email.com', '1999-01-09', '2025-02-17')\n",
            "(90, 'Yasmin Lima', 'yasmin.lima@email.com', '1995-02-28', '2025-02-18')\n",
            "(91, 'Adriana Pacheco', 'adriana.pacheco@email.com', '1993-11-22', '2025-02-19')\n",
            "(92, 'Bruna Santana', 'bruna.santana@email.com', '1997-12-04', '2025-02-20')\n",
            "(93, 'Cláudia Batista', 'claudia.batista@email.com', '1996-08-07', '2025-02-21')\n",
            "(94, 'Daniela Coelho', 'daniela.coelho@email.com', '1998-03-15', '2025-02-22')\n",
            "(95, 'Estela Nascimento', 'estela.nascimento@email.com', '1999-07-10', '2025-02-23')\n",
            "(96, 'Flávia Lopes', 'flavia.lopes@email.com', '1994-05-28', '2025-02-24')\n",
            "(97, 'Graziella Campos', 'graziella.campos@email.com', '1995-09-06', '2025-02-25')\n",
            "(98, 'Hellen Dias', 'hellen.dias@email.com', '1992-02-13', '2025-02-26')\n",
            "(99, 'Ivana Peixoto', 'ivana.peixoto@email.com', '1996-01-02', '2025-02-27')\n",
            "(100, 'Jéssica Prado', 'jessica.prado@email.com', '1997-04-30', '2025-02-28')\n",
            "(101, 'Amanda Farias', 'amanda.farias@email.com', '2000-01-15', '2025-03-01')\n",
            "(102, 'Brenda Martins', 'brenda.martins@email.com', '2000-06-27', '2025-03-02')\n",
            "(103, 'Caroline Nogueira', 'caroline.nogueira@email.com', '2001-03-09', '2025-03-03')\n",
            "(104, 'Diana Rocha', 'diana.rocha@email.com', '2001-09-21', '2025-03-04')\n",
            "(105, 'Evelyn Freire', 'evelyn.freire@email.com', '2002-05-14', '2025-03-05')\n",
            "(106, 'Fernanda Silva', 'fernanda.silva2002@email.com', '2002-11-30', '2025-03-06')\n",
            "(107, 'Giovanna Pires', 'giovanna.pires@email.com', '2003-02-18', '2025-03-07')\n",
            "(108, 'Heloisa Fernandes', 'heloisa.fernandes@email.com', '2003-07-12', '2025-03-08')\n",
            "(109, 'Isis Moraes', 'isis.moraes@email.com', '2003-10-05', '2025-03-09')\n",
            "(110, 'Juliana Brito', 'juliana.brito@email.com', '2004-04-22', '2025-03-10')\n",
            "(111, 'Katarina Lopes', 'katarina.lopes@email.com', '2004-08-17', '2025-03-11')\n",
            "(112, 'Larissa Ribeiro', 'larissa.ribeiro@email.com', '2004-12-03', '2025-03-12')\n",
            "(113, 'Marina Santos', 'marina.santos@email.com', '2005-01-09', '2025-03-13')\n",
            "(114, 'Nathalia Guimarães', 'nathalia.guimaraes@email.com', '2005-03-15', '2025-03-14')\n",
            "(115, 'Olivia Costa', 'olivia.costa@email.com', '2005-06-29', '2025-03-15')\n",
            "(116, 'Patricia Duarte', 'patricia.duarte@email.com', '2005-08-21', '2025-03-16')\n",
            "(117, 'Queila Azevedo', 'queila.azevedo@email.com', '2000-10-30', '2025-03-17')\n",
            "(118, 'Rafaela Lemos', 'rafaela.lemos@email.com', '2001-12-25', '2025-03-18')\n",
            "(119, 'Sara Machado', 'sara.machado@email.com', '2002-09-14', '2025-03-19')\n",
            "(120, 'Thais Correia', 'thais.correia@email.com', '2003-11-11', '2025-03-20')\n",
            "(121, 'Ana Souza', 'ana.souza1@email.com', '1995-03-12', '2025-01-10')\n",
            "(122, 'Beatriz Lima', 'beatriz.lima@email.com', '1994-07-21', '2025-01-11')\n",
            "(123, 'Camila Rocha', 'camila.rocha@email.com', '1997-02-18', '2025-01-12')\n",
            "(124, 'Daniela Ferreira', 'daniela.ferreira@email.com', '1993-09-05', '2025-01-13')\n",
            "(125, 'Eduarda Martins', 'eduarda.martins@email.com', '1998-12-01', '2025-01-14')\n",
            "(126, 'Fernanda Alves', 'fernanda.alves@email.com', '1992-11-25', '2025-01-15')\n",
            "(127, 'Gabriela Ramos', 'gabriela.ramos@email.com', '1996-05-08', '2025-01-16')\n",
            "(128, 'Helena Castro', 'helena.castro@email.com', '1999-06-19', '2025-01-17')\n",
            "(129, 'Isabela Pires', 'isabela.pires@email.com', '1995-10-30', '2025-01-18')\n",
            "(130, 'Juliana Cardoso', 'juliana.cardoso@email.com', '1997-04-14', '2025-01-19')\n",
            "(131, 'Karina Melo', 'karina.melo@email.com', '1993-08-23', '2025-01-20')\n",
            "(132, 'Larissa Gomes', 'larissa.gomes@email.com', '1994-02-10', '2025-01-21')\n",
            "(133, 'Mariana Figueiredo', 'mariana.figueiredo@email.com', '1996-01-28', '2025-01-22')\n",
            "(134, 'Natália Duarte', 'natalia.duarte@email.com', '1992-09-17', '2025-01-23')\n",
            "(135, 'Olívia Teixeira', 'olivia.teixeira@email.com', '1999-03-25', '2025-01-24')\n",
            "(136, 'Patrícia Correia', 'patricia.correia@email.com', '1998-11-03', '2025-01-25')\n",
            "(137, 'Rafaela Nunes', 'rafaela.nunes@email.com', '1995-05-27', '2025-01-26')\n",
            "(138, 'Sabrina Torres', 'sabrina.torres@email.com', '1997-07-16', '2025-01-27')\n",
            "(139, 'Tatiane Barros', 'tatiane.barros@email.com', '1994-06-09', '2025-01-28')\n",
            "(140, 'Vanessa Cunha', 'vanessa.cunha@email.com', '1993-12-20', '2025-01-29')\n",
            "(141, 'Aline Moura', 'aline.moura@email.com', '1996-10-05', '2025-01-30')\n",
            "(142, 'Bianca Lopes', 'bianca.lopes@email.com', '1997-09-12', '2025-01-31')\n",
            "(143, 'Carolina Silva', 'carolina.silva@email.com', '1995-11-07', '2025-02-01')\n",
            "(144, 'Débora Moreira', 'debora.moreira@email.com', '1992-01-19', '2025-02-02')\n",
            "(145, 'Elaine Tavares', 'elaine.tavares@email.com', '1993-05-30', '2025-02-03')\n",
            "(146, 'Fabiana Duarte', 'fabiana.duarte@email.com', '1999-04-25', '2025-02-04')\n",
            "(147, 'Geovana Carvalho', 'geovana.carvalho@email.com', '1994-07-02', '2025-02-05')\n",
            "(148, 'Heloísa Mendes', 'heloisa.mendes@email.com', '1998-08-14', '2025-02-06')\n",
            "(149, 'Irene Costa', 'irene.costa@email.com', '1997-06-22', '2025-02-07')\n",
            "(150, 'Joana Paiva', 'joana.paiva@email.com', '1995-09-03', '2025-02-08')\n",
            "(151, 'Kelly Barbosa', 'kelly.barbosa@email.com', '1996-02-17', '2025-02-09')\n",
            "(152, 'Larissa Monteiro', 'larissa.monteiro@email.com', '1999-12-29', '2025-02-10')\n",
            "(153, 'Michele Freitas', 'michele.freitas@email.com', '1993-03-11', '2025-02-11')\n",
            "(154, 'Nicole Vieira', 'nicole.vieira@email.com', '1995-04-01', '2025-02-12')\n",
            "(155, 'Priscila Souza', 'priscila.souza@email.com', '1997-08-20', '2025-02-13')\n",
            "(156, 'Renata Oliveira', 'renata.oliveira@email.com', '1994-09-15', '2025-02-14')\n",
            "(157, 'Simone Ribeiro', 'simone.ribeiro@email.com', '1996-05-19', '2025-02-15')\n",
            "(158, 'Talita Andrade', 'talita.andrade@email.com', '1998-06-27', '2025-02-16')\n",
            "(159, 'Vitória Araújo', 'vitoria.araujo@email.com', '1999-01-09', '2025-02-17')\n",
            "(160, 'Yasmin Lima', 'yasmin.lima@email.com', '1995-02-28', '2025-02-18')\n",
            "(161, 'Adriana Pacheco', 'adriana.pacheco@email.com', '1993-11-22', '2025-02-19')\n",
            "(162, 'Bruna Santana', 'bruna.santana@email.com', '1997-12-04', '2025-02-20')\n",
            "(163, 'Cláudia Batista', 'claudia.batista@email.com', '1996-08-07', '2025-02-21')\n",
            "(164, 'Daniela Coelho', 'daniela.coelho@email.com', '1998-03-15', '2025-02-22')\n",
            "(165, 'Estela Nascimento', 'estela.nascimento@email.com', '1999-07-10', '2025-02-23')\n",
            "(166, 'Flávia Lopes', 'flavia.lopes@email.com', '1994-05-28', '2025-02-24')\n",
            "(167, 'Graziella Campos', 'graziella.campos@email.com', '1995-09-06', '2025-02-25')\n",
            "(168, 'Hellen Dias', 'hellen.dias@email.com', '1992-02-13', '2025-02-26')\n",
            "(169, 'Ivana Peixoto', 'ivana.peixoto@email.com', '1996-01-02', '2025-02-27')\n",
            "(170, 'Jéssica Prado', 'jessica.prado@email.com', '1997-04-30', '2025-02-28')\n",
            "(171, 'Amanda Farias', 'amanda.farias@email.com', '2000-01-15', '2025-03-01')\n",
            "(172, 'Brenda Martins', 'brenda.martins@email.com', '2000-06-27', '2025-03-02')\n",
            "(173, 'Caroline Nogueira', 'caroline.nogueira@email.com', '2001-03-09', '2025-03-03')\n",
            "(174, 'Diana Rocha', 'diana.rocha@email.com', '2001-09-21', '2025-03-04')\n",
            "(175, 'Evelyn Freire', 'evelyn.freire@email.com', '2002-05-14', '2025-03-05')\n",
            "(176, 'Fernanda Silva', 'fernanda.silva2002@email.com', '2002-11-30', '2025-03-06')\n",
            "(177, 'Giovanna Pires', 'giovanna.pires@email.com', '2003-02-18', '2025-03-07')\n",
            "(178, 'Heloisa Fernandes', 'heloisa.fernandes@email.com', '2003-07-12', '2025-03-08')\n",
            "(179, 'Isis Moraes', 'isis.moraes@email.com', '2003-10-05', '2025-03-09')\n",
            "(180, 'Juliana Brito', 'juliana.brito@email.com', '2004-04-22', '2025-03-10')\n",
            "(181, 'Katarina Lopes', 'katarina.lopes@email.com', '2004-08-17', '2025-03-11')\n",
            "(182, 'Larissa Ribeiro', 'larissa.ribeiro@email.com', '2004-12-03', '2025-03-12')\n",
            "(183, 'Marina Santos', 'marina.santos@email.com', '2005-01-09', '2025-03-13')\n",
            "(184, 'Nathalia Guimarães', 'nathalia.guimaraes@email.com', '2005-03-15', '2025-03-14')\n",
            "(185, 'Olivia Costa', 'olivia.costa@email.com', '2005-06-29', '2025-03-15')\n",
            "(186, 'Patricia Duarte', 'patricia.duarte@email.com', '2005-08-21', '2025-03-16')\n",
            "(187, 'Queila Azevedo', 'queila.azevedo@email.com', '2000-10-30', '2025-03-17')\n",
            "(188, 'Rafaela Lemos', 'rafaela.lemos@email.com', '2001-12-25', '2025-03-18')\n",
            "(189, 'Sara Machado', 'sara.machado@email.com', '2002-09-14', '2025-03-19')\n",
            "(190, 'Thais Correia', 'thais.correia@email.com', '2003-11-11', '2025-03-20')\n"
          ]
        }
      ]
    },
    {
      "cell_type": "code",
      "source": [
        "print(\"Alunas nascidas após os anos 2000: \")\n",
        "for row in cur.execute(\"SELECT * FROM alunas WHERE CAST(strftime('%Y', data_nascimento) AS INTEGER) >= 2000\"):\n",
        "    print(row)\n"
      ],
      "metadata": {
        "colab": {
          "base_uri": "https://localhost:8080/"
        },
        "id": "Mv442puXENzd",
        "outputId": "68eb0953-fdf3-42af-cd09-03aca986ebb1"
      },
      "execution_count": null,
      "outputs": [
        {
          "output_type": "stream",
          "name": "stdout",
          "text": [
            "Alunas nascidas após os anos 2000: \n",
            "(101, 'Amanda Farias', 'amanda.farias@email.com', '2000-01-15', '2025-03-01')\n",
            "(102, 'Brenda Martins', 'brenda.martins@email.com', '2000-06-27', '2025-03-02')\n",
            "(103, 'Caroline Nogueira', 'caroline.nogueira@email.com', '2001-03-09', '2025-03-03')\n",
            "(104, 'Diana Rocha', 'diana.rocha@email.com', '2001-09-21', '2025-03-04')\n",
            "(105, 'Evelyn Freire', 'evelyn.freire@email.com', '2002-05-14', '2025-03-05')\n",
            "(106, 'Fernanda Silva', 'fernanda.silva2002@email.com', '2002-11-30', '2025-03-06')\n",
            "(107, 'Giovanna Pires', 'giovanna.pires@email.com', '2003-02-18', '2025-03-07')\n",
            "(108, 'Heloisa Fernandes', 'heloisa.fernandes@email.com', '2003-07-12', '2025-03-08')\n",
            "(109, 'Isis Moraes', 'isis.moraes@email.com', '2003-10-05', '2025-03-09')\n",
            "(110, 'Juliana Brito', 'juliana.brito@email.com', '2004-04-22', '2025-03-10')\n",
            "(111, 'Katarina Lopes', 'katarina.lopes@email.com', '2004-08-17', '2025-03-11')\n",
            "(112, 'Larissa Ribeiro', 'larissa.ribeiro@email.com', '2004-12-03', '2025-03-12')\n",
            "(113, 'Marina Santos', 'marina.santos@email.com', '2005-01-09', '2025-03-13')\n",
            "(114, 'Nathalia Guimarães', 'nathalia.guimaraes@email.com', '2005-03-15', '2025-03-14')\n",
            "(115, 'Olivia Costa', 'olivia.costa@email.com', '2005-06-29', '2025-03-15')\n",
            "(116, 'Patricia Duarte', 'patricia.duarte@email.com', '2005-08-21', '2025-03-16')\n",
            "(117, 'Queila Azevedo', 'queila.azevedo@email.com', '2000-10-30', '2025-03-17')\n",
            "(118, 'Rafaela Lemos', 'rafaela.lemos@email.com', '2001-12-25', '2025-03-18')\n",
            "(119, 'Sara Machado', 'sara.machado@email.com', '2002-09-14', '2025-03-19')\n",
            "(120, 'Thais Correia', 'thais.correia@email.com', '2003-11-11', '2025-03-20')\n"
          ]
        }
      ]
    },
    {
      "cell_type": "code",
      "source": [
        "print(\"Alunas chamada ''Nathalia: \")\n",
        "for row in cur.execute(\"SELECT * FROM alunas WHERE nome LIKE '%nathalia%'\"):\n",
        "    print(row)"
      ],
      "metadata": {
        "colab": {
          "base_uri": "https://localhost:8080/"
        },
        "id": "wxo4INTCFKeH",
        "outputId": "b6672e0c-71d5-4691-9b38-9155a9239552"
      },
      "execution_count": null,
      "outputs": [
        {
          "output_type": "stream",
          "name": "stdout",
          "text": [
            "Alunas chamada ''Nathalia: \n",
            "(114, 'Nathalia Guimarães', 'nathalia.guimaraes@email.com', '2005-03-15', '2025-03-14')\n",
            "(184, 'Nathalia Guimarães', 'nathalia.guimaraes@email.com', '2005-03-15', '2025-03-14')\n"
          ]
        }
      ]
    },
    {
      "cell_type": "markdown",
      "source": [
        "#### 4. Atualizar registros\n",
        "\n",
        "* Alterar o email de pelo menos uma aluna.\n",
        "\n",
        "* Atualizar o nome de uma aluna existente.\n",
        "\n",
        "* Corrigir a data de nascimento de pelo menos uma aluna."
      ],
      "metadata": {
        "id": "1Z5P6zfrv4IE"
      }
    },
    {
      "cell_type": "code",
      "source": [
        "cur.execute(\"UPDATE alunas SET email = 'novo.emailnathalia@email.com', nome = 'Nathalia Guimarães' WHERE id = 114;\")\n",
        "con.commit()"
      ],
      "metadata": {
        "id": "tt1afyeev4bo"
      },
      "execution_count": null,
      "outputs": []
    },
    {
      "cell_type": "code",
      "source": [
        "print(\"Mudança e-mail Nathália: \")\n",
        "for row in cur.execute(\"SELECT * FROM alunas WHERE nome LIKE '%nathalia%'\"):\n",
        "    print(row)"
      ],
      "metadata": {
        "colab": {
          "base_uri": "https://localhost:8080/"
        },
        "id": "4VZ4uDaoH9iv",
        "outputId": "dfbfbf39-bf55-44f0-dccd-3fd2cfe07a09"
      },
      "execution_count": null,
      "outputs": [
        {
          "output_type": "stream",
          "name": "stdout",
          "text": [
            "Mudança e-mail Nathália: \n",
            "(114, 'Nathalia Guimarães', 'novo.emailnathalia@email.com', '2005-03-15', '2025-03-14')\n",
            "(184, 'Nathalia Guimarães', 'nathalia.guimaraes@email.com', '2005-03-15', '2025-03-14')\n"
          ]
        }
      ]
    },
    {
      "cell_type": "code",
      "source": [
        "cur.execute(\"UPDATE alunas SET nome = 'Amanda Alchemy' WHERE id = 116;\")\n",
        "con.commit()"
      ],
      "metadata": {
        "id": "vFkLhTfWI1d6"
      },
      "execution_count": null,
      "outputs": []
    },
    {
      "cell_type": "code",
      "source": [
        "print('Correção nome: ')\n",
        "for row in cur.execute(\"Select * FROM alunas where id = 116\"):\n",
        "  print(row)"
      ],
      "metadata": {
        "colab": {
          "base_uri": "https://localhost:8080/"
        },
        "id": "Hwq3tAWdJFvs",
        "outputId": "75526510-3c7b-4e4b-d3f8-1c1ffad2a13f"
      },
      "execution_count": null,
      "outputs": [
        {
          "output_type": "stream",
          "name": "stdout",
          "text": [
            "Correção nome: \n",
            "(116, 'Amanda Alchemy', 'patricia.duarte@email.com', '2005-08-21', '2025-03-16')\n"
          ]
        }
      ]
    },
    {
      "cell_type": "code",
      "source": [
        "cur.execute(\"UPDATE alunas SET data_nascimento = '1888-01-01' WHERE id = 101\")\n",
        "con.commit()"
      ],
      "metadata": {
        "id": "g1T9dR8OJkXQ"
      },
      "execution_count": null,
      "outputs": []
    },
    {
      "cell_type": "code",
      "source": [
        "print('Correção data_nascimento: ')\n",
        "for row in cur.execute('SELECT * from alunas WHERE id = 101'):\n",
        "  print(row)"
      ],
      "metadata": {
        "colab": {
          "base_uri": "https://localhost:8080/"
        },
        "id": "0a-6bNwQKJKI",
        "outputId": "94187fb8-0b5d-47b5-e906-dbf841a728f3"
      },
      "execution_count": null,
      "outputs": [
        {
          "output_type": "stream",
          "name": "stdout",
          "text": [
            "Correção data_nascimento: \n",
            "(101, 'Amanda Farias', 'amanda.farias@email.com', '1888-01-01', '2025-03-01')\n"
          ]
        }
      ]
    },
    {
      "cell_type": "markdown",
      "source": [
        "### 5. Remover registros\n",
        "\n",
        "* Excluir pelo menos uma aluna da tabela utilizando DELETE.\n",
        "\n",
        "* Excluir todas as alunas que tenham data de nascimento anterior a 1990."
      ],
      "metadata": {
        "id": "4e3hKcuLv7BO"
      }
    },
    {
      "cell_type": "code",
      "source": [
        "cur.execute(\"DELETE FROM alunas WHERE email = 'amanda.farias@email.com'\")\n",
        "con.commit()"
      ],
      "metadata": {
        "id": "xH8PFS9CvUkM"
      },
      "execution_count": null,
      "outputs": []
    },
    {
      "cell_type": "code",
      "source": [
        "print('Validação exclusão de dados: ')\n",
        "for row in cur.execute('select * from alunas where id = 101'):\n",
        "  print(row)"
      ],
      "metadata": {
        "colab": {
          "base_uri": "https://localhost:8080/"
        },
        "id": "mx43I7f2L0s3",
        "outputId": "2595adb8-296c-49ad-925b-a37aeeb4f097"
      },
      "execution_count": null,
      "outputs": [
        {
          "output_type": "stream",
          "name": "stdout",
          "text": [
            "Validação exclusão de dados: \n"
          ]
        }
      ]
    }
  ]
}