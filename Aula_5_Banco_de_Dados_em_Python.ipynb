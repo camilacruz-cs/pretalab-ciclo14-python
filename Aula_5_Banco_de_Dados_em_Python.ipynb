{
  "nbformat": 4,
  "nbformat_minor": 0,
  "metadata": {
    "colab": {
      "provenance": [],
      "include_colab_link": true
    },
    "kernelspec": {
      "name": "python3",
      "display_name": "Python 3"
    },
    "language_info": {
      "name": "python"
    }
  },
  "cells": [
    {
      "cell_type": "markdown",
      "metadata": {
        "id": "view-in-github",
        "colab_type": "text"
      },
      "source": [
        "<a href=\"https://colab.research.google.com/github/camilacruz-cs/pretalab-ciclo14-python/blob/main/Aula_5_Banco_de_Dados_em_Python.ipynb\" target=\"_parent\"><img src=\"https://colab.research.google.com/assets/colab-badge.svg\" alt=\"Open In Colab\"/></a>"
      ]
    },
    {
      "cell_type": "markdown",
      "source": [
        "# Prática CRUD com SQLite3 em Python"
      ],
      "metadata": {
        "id": "x9zjxv6ziyeW"
      }
    },
    {
      "cell_type": "code",
      "source": [
        "import sqlite3"
      ],
      "metadata": {
        "id": "Z3GLYxLfj3up"
      },
      "execution_count": null,
      "outputs": []
    },
    {
      "cell_type": "markdown",
      "source": [
        "## 1. Criando conexão com o banco SQLite"
      ],
      "metadata": {
        "id": "r9M_ilttjyNB"
      }
    },
    {
      "cell_type": "code",
      "source": [
        "con = sqlite3.connect(\"ecommerce.db\")\n",
        "cur = con.cursor()"
      ],
      "metadata": {
        "id": "q-zG9iR3jb3n"
      },
      "execution_count": null,
      "outputs": []
    },
    {
      "cell_type": "markdown",
      "source": [
        "## 2. Criando tabelas"
      ],
      "metadata": {
        "id": "M6HWEJvNj04I"
      }
    },
    {
      "cell_type": "code",
      "source": [
        "cur.execute(\"\"\"\n",
        "CREATE TABLE IF NOT EXISTS usuarios (\n",
        "    id INTEGER PRIMARY KEY AUTOINCREMENT,\n",
        "    nome TEXT NOT NULL,\n",
        "    email TEXT UNIQUE NOT NULL,\n",
        "    senha TEXT NOT NULL,\n",
        "    data_criacao TIMESTAMP DEFAULT CURRENT_TIMESTAMP\n",
        ");\n",
        "\"\"\")\n",
        "\n",
        "cur.execute(\"\"\"\n",
        "CREATE TABLE IF NOT EXISTS produtos (\n",
        "    id INTEGER PRIMARY KEY AUTOINCREMENT,\n",
        "    nome TEXT NOT NULL,\n",
        "    preco REAL NOT NULL,\n",
        "    estoque INTEGER NOT NULL\n",
        ");\n",
        "\"\"\")\n",
        "\n",
        "cur.execute(\"\"\"\n",
        "CREATE TABLE IF NOT EXISTS pedidos (\n",
        "    id INTEGER PRIMARY KEY AUTOINCREMENT,\n",
        "    usuario_id INTEGER NOT NULL,\n",
        "    data_pedido TIMESTAMP DEFAULT CURRENT_TIMESTAMP,\n",
        "    status TEXT DEFAULT 'Pendente',\n",
        "    FOREIGN KEY(usuario_id) REFERENCES usuarios(id)\n",
        ");\n",
        "\"\"\")\n",
        "\n",
        "cur.execute(\"\"\"\n",
        "CREATE TABLE IF NOT EXISTS itens_pedido (\n",
        "    id INTEGER PRIMARY KEY AUTOINCREMENT,\n",
        "    pedido_id INTEGER NOT NULL,\n",
        "    produto_id INTEGER NOT NULL,\n",
        "    quantidade INTEGER NOT NULL,\n",
        "    preco_unitario REAL NOT NULL,\n",
        "    FOREIGN KEY(pedido_id) REFERENCES pedidos(id),\n",
        "    FOREIGN KEY(produto_id) REFERENCES produtos(id)\n",
        ");\n",
        "\"\"\")\n",
        "\n",
        "con.commit()"
      ],
      "metadata": {
        "id": "F88hO-Lzj8S1"
      },
      "execution_count": null,
      "outputs": []
    },
    {
      "cell_type": "markdown",
      "source": [
        "## 3. Inserindo dados (CREATE)"
      ],
      "metadata": {
        "id": "9h5sZp2dkA9A"
      }
    },
    {
      "cell_type": "code",
      "source": [
        "#Adicionando usuários\n",
        "usuarios = [\n",
        "    (\"João Silva\", \"joao@email.com\", \"123456\"),\n",
        "    (\"Maria Souza\", \"maria@email.com\", \"abcdef\"),\n",
        "    (\"Carlos Pereira\", \"carlos@email.com\", \"senha123\")\n",
        "]\n",
        "\n",
        "cur.executemany(\"INSERT OR REPLACE INTO usuarios (nome, email, senha) VALUES (?, ?, ?)\", usuarios)\n",
        "\n",
        "#Adicionando produtos\n",
        "produtos = [\n",
        "    (\"Azeite Andorinha\", 39.20, 20),\n",
        "    (\"Papel Higiênico\", 20, 20),\n",
        "    (\"Suco de Laranja\", 15, 3)\n",
        "]\n",
        "\n",
        "cur.executemany(\"INSERT INTO produtos (nome, preco, estoque) VALUES (?, ?, ?)\", produtos)\n",
        "\n",
        "\n",
        "#Adicionando itens_pedido\n",
        "\n",
        "itens = [\n",
        "    (1, 2, 8, 90),\n",
        "    (1, 3, 2, 15),\n",
        "    (2, 1, 5, 39.2)\n",
        "]\n",
        "\n",
        "\n",
        "\n",
        "\n",
        "cur.executemany(\"INSERT INTO itens_pedido (pedido_id, produto_id, quantidade, preco_unitario) VALUES (?, ?, ?, ?)\",\n",
        "    itens)\n",
        "\n",
        "con.commit()"
      ],
      "metadata": {
        "id": "5azwRRSLkAjB"
      },
      "execution_count": null,
      "outputs": []
    },
    {
      "cell_type": "markdown",
      "source": [
        "## 4. Consultando dados (READ)"
      ],
      "metadata": {
        "id": "Cg-C5TwYkFwD"
      }
    },
    {
      "cell_type": "code",
      "source": [
        "#Consultando usuários\n",
        "print(\"Usuários:\")\n",
        "for row in cur.execute(\"SELECT * FROM usuarios\"):\n",
        "    print(row)\n",
        "\n",
        "#Consultando produtos\n",
        "\n",
        "print(\"Produtos:\")\n",
        "for row in cur.execute(\"Select * From produtos\"):\n",
        "  print(row)\n",
        "\n",
        "#Consultando itens_pedidos\n",
        "\n",
        "print(\"itens_pedido\")\n",
        "for row in cur.execute(\"Select * from itens_pedido\"):\n",
        "  print(row)"
      ],
      "metadata": {
        "id": "r3xmmJ4-kE7v",
        "colab": {
          "base_uri": "https://localhost:8080/"
        },
        "outputId": "f0b8a50d-f691-4c14-caf0-aa9b2af0abca"
      },
      "execution_count": null,
      "outputs": [
        {
          "output_type": "stream",
          "name": "stdout",
          "text": [
            "Usuários:\n",
            "(7, 'João Silva', 'joao@email.com', '123456', '2025-09-25 00:26:59')\n",
            "(8, 'Maria Souza', 'maria@email.com', 'abcdef', '2025-09-25 00:26:59')\n",
            "(9, 'Carlos Pereira', 'carlos@email.com', 'senha123', '2025-09-25 00:26:59')\n",
            "Produtos:\n",
            "(1, 'Azeite Andorinha', 39.2, 20)\n",
            "(2, 'Papel Higiênico', 20.0, 20)\n",
            "(3, 'Suco de Laranja', 15.0, 3)\n",
            "(4, 'Azeite Andorinha', 39.2, 20)\n",
            "(5, 'Papel Higiênico', 20.0, 20)\n",
            "(6, 'Suco de Laranja', 15.0, 3)\n",
            "itens_pedido\n",
            "(1, 1, 2, 8, 90.0)\n",
            "(2, 1, 3, 2, 15.0)\n",
            "(3, 2, 1, 5, 39.2)\n"
          ]
        }
      ]
    },
    {
      "cell_type": "markdown",
      "source": [
        "## 5. Atualizando dados (UPDATE)"
      ],
      "metadata": {
        "id": "NGZ9sColkOZ-"
      }
    },
    {
      "cell_type": "code",
      "source": [
        "cur.execute(\"UPDATE produtos SET estoque = estoque - 1 WHERE id = 1\")\n",
        "con.commit()\n",
        "\n",
        "print(\"\\nEstoque atualizado:\")\n",
        "for row in cur.execute(\"SELECT * FROM produtos\"):\n",
        "    print(row)"
      ],
      "metadata": {
        "id": "tUQRtC1JkOiz",
        "colab": {
          "base_uri": "https://localhost:8080/"
        },
        "outputId": "ae657fcd-53a1-4003-e98e-3e3f16d1e873"
      },
      "execution_count": null,
      "outputs": [
        {
          "output_type": "stream",
          "name": "stdout",
          "text": [
            "\n",
            "Estoque atualizado:\n",
            "(1, 'Azeite Andorinha', 39.2, 19)\n",
            "(2, 'Papel Higiênico', 20.0, 20)\n",
            "(3, 'Suco de Laranja', 15.0, 3)\n",
            "(4, 'Azeite Andorinha', 39.2, 20)\n",
            "(5, 'Papel Higiênico', 20.0, 20)\n",
            "(6, 'Suco de Laranja', 15.0, 3)\n"
          ]
        }
      ]
    },
    {
      "cell_type": "markdown",
      "source": [
        "## 6. Deletando dados (DELETE)"
      ],
      "metadata": {
        "id": "HrZZd3lKkOwX"
      }
    },
    {
      "cell_type": "code",
      "source": [
        "cur.execute(\"DELETE FROM usuarios WHERE id = 3\")\n",
        "con.commit()\n",
        "\n",
        "print(\"\\nUsuários após exclusão:\")\n",
        "for row in cur.execute(\"SELECT * FROM usuarios\"):\n",
        "    print(row)"
      ],
      "metadata": {
        "id": "V-Sff3GDkO1z",
        "colab": {
          "base_uri": "https://localhost:8080/"
        },
        "outputId": "e485c43a-ac00-4fd1-aecc-5150a2a7103c"
      },
      "execution_count": null,
      "outputs": [
        {
          "output_type": "stream",
          "name": "stdout",
          "text": [
            "\n",
            "Usuários após exclusão:\n",
            "(7, 'João Silva', 'joao@email.com', '123456', '2025-09-25 00:26:59')\n",
            "(8, 'Maria Souza', 'maria@email.com', 'abcdef', '2025-09-25 00:26:59')\n",
            "(9, 'Carlos Pereira', 'carlos@email.com', 'senha123', '2025-09-25 00:26:59')\n"
          ]
        }
      ]
    },
    {
      "cell_type": "markdown",
      "source": [
        "## 7. Consultas com agregação"
      ],
      "metadata": {
        "id": "JWyq9Hb1kO6f"
      }
    },
    {
      "cell_type": "code",
      "source": [
        "print(\"\\nPreço médio dos produtos:\")\n",
        "for row in cur.execute(\"SELECT AVG(preco) FROM produtos\"):\n",
        "    print(row)\n",
        "\n",
        "print(\"\\nTotal de produtos cadastrados:\")\n",
        "for row in cur.execute(\"SELECT COUNT(*) FROM produtos\"):\n",
        "    print(row)"
      ],
      "metadata": {
        "id": "QE2fKdo5kO_L",
        "colab": {
          "base_uri": "https://localhost:8080/"
        },
        "outputId": "fcf7c215-db9d-4ac5-9d83-7d970caeae28"
      },
      "execution_count": null,
      "outputs": [
        {
          "output_type": "stream",
          "name": "stdout",
          "text": [
            "\n",
            "Preço médio dos produtos:\n",
            "(24.733333333333334,)\n",
            "\n",
            "Total de produtos cadastrados:\n",
            "(6,)\n"
          ]
        }
      ]
    },
    {
      "cell_type": "markdown",
      "source": [
        "## 8. Exercício: Criando e manipulando uma tabela de categorias"
      ],
      "metadata": {
        "id": "I63uSZb9kPEI"
      }
    },
    {
      "cell_type": "markdown",
      "source": [
        "Agora, crie uma tabela chamada categorias para armazenar as categorias dos produtos.\n",
        "Em seguida:\n",
        "\n",
        "1. Insira pelo menos 3 registros.\n",
        "\n",
        "2. Liste todas as categorias.\n",
        "\n",
        "3. Atualize o nome de uma categoria.\n",
        "\n",
        "4. Exclua uma categoria."
      ],
      "metadata": {
        "id": "dUW6JVuflLis"
      }
    },
    {
      "cell_type": "code",
      "source": [
        "cur.execute(\"\"\"\n",
        "CREATE TABLE IF NOT EXISTS categoria_produtos (\n",
        "    id INTEGER PRIMARY KEY AUTOINCREMENT,\n",
        "    produto TEXT NOT NULL,\n",
        "    categoria TEXT NOT NULL,\n",
        "    criado_em TIMESTAMP DEFAULT CURRENT_TIMESTAMP,\n",
        "    atualizado_em TIMESTAMP DEFAULT CURRENT_TIMESTAMP\n",
        "\n",
        ");\n",
        "\"\"\")\n",
        "\n",
        "con.commit()"
      ],
      "metadata": {
        "id": "gMwx-pQdkPJE"
      },
      "execution_count": null,
      "outputs": []
    },
    {
      "cell_type": "code",
      "source": [
        "categoria_produtos = [\n",
        "    (\"Mesa de Cabeceira\", \"Móvel\", \"2025-09-24\",\"2025-09-24\"),\n",
        "    (\"Mesa de Centro\", \"Móvel\", \"2025-09-24\",\"2025-09-24\"),\n",
        "    (\"Notebook Dell - i7, Preto, 15 polegadas\", \"Eletrônico\", \"2018-01-24\",\"2025-09-24\"),\n",
        "    (\"Azeite Andorinha\", \"Alimentos\", \"2025-09-23\", \"2025-09-23\"),\n",
        "    (\"Papel Higiênico\", \"Higiene\", \"2025-09-23\", \"2025-09-23\"),\n",
        "    (\"Suco de Laranja\", \"Bebidas\", \"2025-09-23\", \"2025-09-23\")\n",
        "]\n",
        "\n",
        "\n",
        "cur.executemany(\n",
        "    \"INSERT OR IGNORE INTO categoria_produtos (produto, categoria, criado_em, atualizado_em) VALUES (?, ?, ?, ?)\",\n",
        "    categoria_produtos\n",
        ")\n",
        "\n",
        "\n",
        "con.commit()\n"
      ],
      "metadata": {
        "id": "krWHGWh7V2By"
      },
      "execution_count": null,
      "outputs": []
    },
    {
      "cell_type": "code",
      "source": [
        "print(\"categoria_produtos:\")\n",
        "for row in cur.execute(\"Select * from categoria_produtos\"):\n",
        "    print (row)"
      ],
      "metadata": {
        "colab": {
          "base_uri": "https://localhost:8080/"
        },
        "id": "78iSe2luWpd0",
        "outputId": "cddb5037-8c40-4fdb-826a-af278b1225be"
      },
      "execution_count": null,
      "outputs": [
        {
          "output_type": "stream",
          "name": "stdout",
          "text": [
            "categoria_produtos:\n",
            "(1, 'Mesa de Cabeceira', 'Móvel', '2025-09-24', '2025-09-24')\n",
            "(4, 'Notebook Dell - i7, Preto, 15 polegadas', 'Eletrônico', '2018-01-24', '2025-09-24')\n",
            "(5, 'Azeite Andorinha', 'Alimentos', '2025-09-23', '2025-09-23')\n",
            "(6, 'Papel Higiênico', 'Higiene', '2025-09-23', '2025-09-23')\n",
            "(7, 'Suco de Laranja', 'Bebidas', '2025-09-23', '2025-09-23')\n"
          ]
        }
      ]
    },
    {
      "cell_type": "code",
      "source": [
        "cur.execute(\n",
        "    \"UPDATE categoria_produtos SET produto = ?, atualizado_em = ? WHERE id = ?\",\n",
        "    (\"Mesa de Cabeceira Luxo\", \"2025-09-24\", 1)\n",
        ")\n",
        "con.commit()\n",
        "\n",
        "\n",
        "print(\"categoria_produtos: \")\n",
        "\n",
        "for row in cur.execute(\"select * from categoria_produtos\"):\n",
        "  print(row)"
      ],
      "metadata": {
        "colab": {
          "base_uri": "https://localhost:8080/"
        },
        "id": "FwTszDgPXHLk",
        "outputId": "ddcecd20-0bd1-4500-b1e1-ade97919b410"
      },
      "execution_count": null,
      "outputs": [
        {
          "output_type": "stream",
          "name": "stdout",
          "text": [
            "categoria_produtos: \n",
            "(1, 'Mesa de Cabeceira Luxo', 'Móvel', '2025-09-24', '2025-09-24')\n",
            "(4, 'Notebook Dell - i7, Preto, 15 polegadas', 'Eletrônico', '2018-01-24', '2025-09-24')\n",
            "(5, 'Azeite Andorinha', 'Alimentos', '2025-09-23', '2025-09-23')\n",
            "(6, 'Papel Higiênico', 'Higiene', '2025-09-23', '2025-09-23')\n",
            "(7, 'Suco de Laranja', 'Bebidas', '2025-09-23', '2025-09-23')\n"
          ]
        }
      ]
    },
    {
      "cell_type": "code",
      "source": [
        "cur.execute(\"DELETE FROM categoria_produtos WHERE id = 7\")\n",
        "con.commit()\n",
        "\n",
        "print(\"categoria_produtos: \")\n",
        "for row in cur.execute(\"select * from categoria_produtos\"):\n",
        "  print(row)"
      ],
      "metadata": {
        "colab": {
          "base_uri": "https://localhost:8080/"
        },
        "id": "gGjjn9RjaKIp",
        "outputId": "babad637-8072-4412-b04c-40e46ed41b9a"
      },
      "execution_count": null,
      "outputs": [
        {
          "output_type": "stream",
          "name": "stdout",
          "text": [
            "categoria_produtos: \n",
            "(1, 'Mesa de Cabeceira Luxo', 'Móvel', '2025-09-24', '2025-09-24')\n",
            "(4, 'Notebook Dell - i7, Preto, 15 polegadas', 'Eletrônico', '2018-01-24', '2025-09-24')\n",
            "(5, 'Azeite Andorinha', 'Alimentos', '2025-09-23', '2025-09-23')\n",
            "(6, 'Papel Higiênico', 'Higiene', '2025-09-23', '2025-09-23')\n"
          ]
        }
      ]
    }
  ]
}