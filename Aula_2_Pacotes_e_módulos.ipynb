{
  "nbformat": 4,
  "nbformat_minor": 0,
  "metadata": {
    "colab": {
      "provenance": [],
      "include_colab_link": true
    },
    "kernelspec": {
      "name": "python3",
      "display_name": "Python 3"
    },
    "language_info": {
      "name": "python"
    }
  },
  "cells": [
    {
      "cell_type": "markdown",
      "metadata": {
        "id": "view-in-github",
        "colab_type": "text"
      },
      "source": [
        "<a href=\"https://colab.research.google.com/github/camilacruz-cs/pretalab-ciclo14-python/blob/main/Aula_2_Pacotes_e_m%C3%B3dulos.ipynb\" target=\"_parent\"><img src=\"https://colab.research.google.com/assets/colab-badge.svg\" alt=\"Open In Colab\"/></a>"
      ]
    },
    {
      "cell_type": "markdown",
      "source": [
        "# Módulos e Pacotes em Python"
      ],
      "metadata": {
        "id": "nab9RWjOFIyj"
      }
    },
    {
      "cell_type": "markdown",
      "source": [
        "## Por que módulos e pacotes?\n",
        "Reaproveitar código acelera o desenvolvimento e evita \"reinventar a roda\".\n",
        "\n",
        "Um **módulo** é um arquivo `.py` com definições (funções, classes, variáveis).\n",
        "\n",
        "Um **pacote** é uma pasta com módulos (geralmente contém um `__init__.py`).\n",
        "\n",
        "**Importar** significa \"trazer\" nomes de outro módulo para usar aqui."
      ],
      "metadata": {
        "id": "fF7ZxP3fFT4b"
      }
    },
    {
      "cell_type": "markdown",
      "source": [
        "## Biblioteca padrão\n",
        "Python vem com muitos módulos úteis já como padrão, alguns exemplos são:\n",
        "- `math`: funções matemáticas\n",
        "- `random`: aleatoriedade\n",
        "- `os` / `pathlib`: arquivos e diretórios\n",
        "- `datetime`: datas e horários"
      ],
      "metadata": {
        "id": "COTAUqsbGJA-"
      }
    },
    {
      "cell_type": "markdown",
      "source": [
        "## Sintaxe de import\n",
        "Para usar um módulo utilizamos a palavra `import`:\n",
        "\n",
        "- `import modulo`\n",
        "- `import modulo as apelido`\n",
        "- `from modulo import nome1, nome2`\n",
        "- `from modulo import *` (pode causar conflitos e não é uma boa prática)"
      ],
      "metadata": {
        "id": "FpuLCljyF3qx"
      }
    },
    {
      "cell_type": "code",
      "source": [
        "import math\n",
        "import math as m\n",
        "from math import sqrt, pi\n",
        "\n",
        "print(\"math.pi:\", math.pi)\n",
        "print(\"m.e:\", m.e)\n",
        "print(\"sqrt(16):\", sqrt(16))\n",
        "print(\"pi:\", pi)"
      ],
      "metadata": {
        "id": "2kztv0GICm2J",
        "colab": {
          "base_uri": "https://localhost:8080/"
        },
        "outputId": "855b5b76-248b-408f-c7c9-4b419a3dcd6a"
      },
      "execution_count": null,
      "outputs": [
        {
          "output_type": "stream",
          "name": "stdout",
          "text": [
            "math.pi: 3.141592653589793\n",
            "m.e: 2.718281828459045\n",
            "sqrt(16): 4.0\n",
            "pi: 3.141592653589793\n"
          ]
        }
      ]
    },
    {
      "cell_type": "code",
      "source": [
        "import random\n",
        "\n",
        "print(\"Número aleatório [0,1):\", random.random())\n",
        "\n",
        "#Adicionando numero a uma lista"
      ],
      "metadata": {
        "id": "iHd9udVZFKNO",
        "colab": {
          "base_uri": "https://localhost:8080/"
        },
        "outputId": "eee656b7-c725-4077-ab82-5d2c203b5a23"
      },
      "execution_count": null,
      "outputs": [
        {
          "output_type": "stream",
          "name": "stdout",
          "text": [
            "Número aleatório [0,1): 0.44562144222630495\n"
          ]
        }
      ]
    },
    {
      "cell_type": "code",
      "source": [
        "import os\n",
        "\n",
        "print(\"Diretório atual:\", os.getcwd())"
      ],
      "metadata": {
        "id": "K6UAnvb3GaE1",
        "colab": {
          "base_uri": "https://localhost:8080/"
        },
        "outputId": "67ce067c-2222-485a-d4e0-b6ca4c60a14e"
      },
      "execution_count": null,
      "outputs": [
        {
          "output_type": "stream",
          "name": "stdout",
          "text": [
            "Diretório atual: /content\n"
          ]
        }
      ]
    },
    {
      "cell_type": "code",
      "source": [
        "import datetime as dt\n",
        "\n",
        "print(\"Hoje é:\", dt.date.today())"
      ],
      "metadata": {
        "id": "mybsrk5Tcxjg",
        "colab": {
          "base_uri": "https://localhost:8080/"
        },
        "outputId": "df851971-f683-4c08-d3a1-80d2f7b30257"
      },
      "execution_count": null,
      "outputs": [
        {
          "output_type": "stream",
          "name": "stdout",
          "text": [
            "Hoje é: 2025-09-16\n"
          ]
        }
      ]
    },
    {
      "cell_type": "markdown",
      "source": [
        "### Exercício 1 — Biblioteca padrão\n",
        "1. Utilizando a biblioteca padrão de geracão de números aleatórios do Python, gere **5 números aleatórios** entre 1 e 100 e salve em uma lista.\n",
        "\n",
        "2. Descubra qual foi o maior e o menor número gerado.\n",
        "\n",
        "### Funções úteis:\n",
        "- `max(lista)` → retorna o maior valor.\n",
        "\n",
        "- `min(lista)` → retorna o menor valor.\n",
        "\n",
        "- `sum(lista)` → soma os valores (ótimo se quiser calcular média).\n",
        "\n",
        "- `len(lista)` → quantidade de elementos."
      ],
      "metadata": {
        "id": "XP11SklGGkHj"
      }
    },
    {
      "cell_type": "code",
      "source": [
        "import random\n",
        "print(\"Número escolhido da vez é: \",random.randint(3,800))\n",
        "\n",
        "#Criando a lista\n",
        "lista_num = []\n",
        "lista_num.append(random.randint(1,800))\n",
        "lista_num.append(random.randint(1,800))\n",
        "lista_num.append(random.randint(1,800))\n",
        "lista_num.append(random.randint(1,800))\n",
        "lista_num.append(random.randint(1,800))\n",
        "\n",
        "print(\"lista:\", lista_num)\n",
        "print(\"Numero máximo:\", max(lista_num))\n",
        "print(\"Numero mínimo:\", min(lista_num))\n",
        "print(\"Soma:\", sum(lista_num))\n",
        "print(\"Tamanho da Lista:\", len(lista_num))"
      ],
      "metadata": {
        "id": "CpBu5e_aGknC",
        "colab": {
          "base_uri": "https://localhost:8080/"
        },
        "outputId": "b69daa57-9a5a-42d9-bf8c-160ea24009d4"
      },
      "execution_count": null,
      "outputs": [
        {
          "output_type": "stream",
          "name": "stdout",
          "text": [
            "Número escolhido da vez é:  136\n",
            "lista: [328, 656, 760, 692, 120]\n",
            "Numero máximo: 760\n",
            "Numero mínimo: 120\n",
            "Soma: 2556\n",
            "Tamanho da Lista: 5\n"
          ]
        }
      ]
    },
    {
      "cell_type": "code",
      "source": [
        "max(lista_num)"
      ],
      "metadata": {
        "colab": {
          "base_uri": "https://localhost:8080/"
        },
        "id": "1_qelHMVrJXZ",
        "outputId": "165c0a05-638e-49de-d8fa-1554bc654556"
      },
      "execution_count": null,
      "outputs": [
        {
          "output_type": "execute_result",
          "data": {
            "text/plain": [
              "649"
            ]
          },
          "metadata": {},
          "execution_count": 17
        }
      ]
    },
    {
      "cell_type": "code",
      "source": [
        "min(lista_num)"
      ],
      "metadata": {
        "colab": {
          "base_uri": "https://localhost:8080/"
        },
        "id": "j5SVfVRirOLD",
        "outputId": "0451d5d8-f5e6-45de-ede6-f9893b3e0354"
      },
      "execution_count": null,
      "outputs": [
        {
          "output_type": "execute_result",
          "data": {
            "text/plain": [
              "127"
            ]
          },
          "metadata": {},
          "execution_count": 20
        }
      ]
    },
    {
      "cell_type": "markdown",
      "source": [
        "## Criando seu próprio módulo\n",
        "Um módulo é apenas um arquivo `.py`. No Colab, podemos criá-lo com `%%writefile`.\n"
      ],
      "metadata": {
        "id": "K6NbWgnNGwXp"
      }
    },
    {
      "cell_type": "code",
      "source": [
        "def area_circulo(r):\n",
        "    return 3.1415 * (r ** 2)\n",
        "\n",
        "def area_retangulo(l, a):\n",
        "    return l * a\n",
        "\n",
        "def saudacao(nome):\n",
        "    return f\"Olá, {nome}! Bem-vinda à aula de módulos e pacotes.\""
      ],
      "metadata": {
        "id": "DVYo0eVTG01M"
      },
      "execution_count": null,
      "outputs": []
    },
    {
      "cell_type": "code",
      "source": [
        "# %%writefile utilidades.py\n",
        "# \"\"\"Módulo de utilidades para a aula (exemplo).\"\"\"\n",
        "# from utilidades import area_circulo, area_retangulo, saudacao\n",
        "\n",
        "# print(area_circulo(3))\n",
        "# print(area_retangulo(5, 2))\n",
        "# print(saudacao(\"Ana\"))"
      ],
      "metadata": {
        "id": "X9pWK95UG6v9"
      },
      "execution_count": null,
      "outputs": []
    },
    {
      "cell_type": "markdown",
      "source": [
        "### Exercício 2 — Seu módulo\n",
        "1. Crie um módulo `calculadora.py` com as funções:\n",
        "- area_retangulo(l, a) → retorna a área de um retângulo de lados l e a.\n",
        "\n",
        "- perimetro_retangulo(l, a) → retorna o perímetro de um retângulo de lados l e a.\n",
        "\n",
        "- area_circulo(r) → retorna a área de um círculo de raio r.\n",
        "\n",
        "- circunferencia(r) → retorna o comprimento da circunferência de raio r.\n",
        "\n",
        "- volume_cubo(l) → retorna o volume de um cubo de lado l.\n",
        "\n",
        "2. Importe o módulo e **teste** as funções.\n",
        "\n",
        "👉 Dica: use math.pi quando precisar de π."
      ],
      "metadata": {
        "id": "_--BkIEzHXNu"
      }
    },
    {
      "cell_type": "code",
      "source": [
        "%%writefile calculadora.py\n",
        "from math import pi\n",
        "\n",
        "def area_retangulo(l, a):\n",
        "    return l * a\n",
        "\n",
        "def area_quadrado(l):\n",
        "    return l * l\n",
        "\n",
        "def perimetro_retangulo(l, a):   # <- aqui está o que faltava\n",
        "    return 2 * (l + a)\n",
        "\n",
        "def area_circulo(r):\n",
        "    return pi * (r ** 2)\n",
        "\n",
        "def circunferencia(r):\n",
        "    return 2 * pi * r\n",
        "\n",
        "def volume_cubo(l):\n",
        "    return l ** 3\n"
      ],
      "metadata": {
        "id": "C-1i7GApHY99",
        "colab": {
          "base_uri": "https://localhost:8080/"
        },
        "outputId": "0e761886-f352-4a33-fecf-8deb783a1171"
      },
      "execution_count": null,
      "outputs": [
        {
          "output_type": "stream",
          "name": "stdout",
          "text": [
            "Overwriting calculadora.py\n"
          ]
        }
      ]
    },
    {
      "cell_type": "code",
      "source": [
        "\n",
        "import calculadora as cl\n",
        "\n",
        "print(cl.area_retangulo(2, 4))\n",
        "print(cl.area_quadrado(3))\n",
        "print(cl.perimetro_retangulo(2, 2))\n",
        "print(cl.area_circulo(4))\n",
        "print(cl.circunferencia(3))\n",
        "print(cl.volume_cubo(2))\n"
      ],
      "metadata": {
        "colab": {
          "base_uri": "https://localhost:8080/"
        },
        "id": "FcNp_76hwISd",
        "outputId": "523ec674-0244-4853-fba3-3d0b46c7c4ae"
      },
      "execution_count": null,
      "outputs": [
        {
          "output_type": "stream",
          "name": "stdout",
          "text": [
            "8\n",
            "9\n",
            "8\n",
            "50.26548245743669\n",
            "18.84955592153876\n",
            "8\n"
          ]
        }
      ]
    },
    {
      "cell_type": "markdown",
      "source": [
        "### Boas práticas\n",
        "- Nomeie módulos com **minúsculas** (ex.: `utilidades.py`).\n",
        "- Evite `from X import *` — seja explícito.\n",
        "- Agrupe funções relacionadas;\n",
        "- Use `requirements.txt` (ou seção de dependências) em projetos reais.\n",
        "- Ao editar um módulo no Colab, use `importlib.reload(modulo)` após `%%writefile`."
      ],
      "metadata": {
        "id": "88xf9bejHpWY"
      }
    },
    {
      "cell_type": "markdown",
      "source": [
        "# E se eu quiser usar uma biblioteca que não vem por padrão no Python, o que faço?"
      ],
      "metadata": {
        "id": "-XqtiachfuwQ"
      }
    },
    {
      "cell_type": "markdown",
      "source": [
        "## Pacotes externos (PyPI) e `pip`\n",
        "Além da biblioteca padrão, podemos instalar pacotes feitos pela comunidade.\n",
        "No Colab, use `pip` diretamente numa célula:"
      ],
      "metadata": {
        "id": "p0HbUaSsHklw"
      }
    },
    {
      "cell_type": "markdown",
      "source": [
        "## Pacote `emoji`\n",
        "\n",
        "O pacote [`emoji`](https://pypi.org/project/emoji/) permite trabalhar com emojis no Python."
      ],
      "metadata": {
        "id": "LtqVX_3DgMyq"
      }
    },
    {
      "cell_type": "code",
      "source": [
        "print(\"Python é uma linguagem de programação incrível :snake: :rocket:\")"
      ],
      "metadata": {
        "id": "Qa4uAzyfgSjL",
        "colab": {
          "base_uri": "https://localhost:8080/"
        },
        "outputId": "6fe7dcf4-5369-4717-b7e1-ae8ad2b7ba5d"
      },
      "execution_count": null,
      "outputs": [
        {
          "output_type": "stream",
          "name": "stdout",
          "text": [
            "Python é uma linguagem de programação incrível :snake: :rocket:\n"
          ]
        }
      ]
    },
    {
      "cell_type": "code",
      "source": [
        "!pip install emoji"
      ],
      "metadata": {
        "id": "4p_-TuQvQhDt",
        "colab": {
          "base_uri": "https://localhost:8080/"
        },
        "outputId": "62a566f7-b43a-4be1-f287-54e30eaab35d"
      },
      "execution_count": null,
      "outputs": [
        {
          "output_type": "stream",
          "name": "stdout",
          "text": [
            "Collecting emoji\n",
            "  Downloading emoji-2.14.1-py3-none-any.whl.metadata (5.7 kB)\n",
            "Downloading emoji-2.14.1-py3-none-any.whl (590 kB)\n",
            "\u001b[?25l   \u001b[90m━━━━━━━━━━━━━━━━━━━━━━━━━━━━━━━━━━━━━━━━\u001b[0m \u001b[32m0.0/590.6 kB\u001b[0m \u001b[31m?\u001b[0m eta \u001b[36m-:--:--\u001b[0m\r\u001b[2K   \u001b[90m━━━━━━━━━━━━━━━━━━━━━━━━━━━━━━━━━━━━━━━━\u001b[0m \u001b[32m590.6/590.6 kB\u001b[0m \u001b[31m23.7 MB/s\u001b[0m eta \u001b[36m0:00:00\u001b[0m\n",
            "\u001b[?25hInstalling collected packages: emoji\n",
            "Successfully installed emoji-2.14.1\n"
          ]
        }
      ]
    },
    {
      "cell_type": "code",
      "source": [
        "from emoji import emojize"
      ],
      "metadata": {
        "id": "yCJFwF_P0lVe"
      },
      "execution_count": null,
      "outputs": []
    },
    {
      "cell_type": "code",
      "source": [
        "print(emojize(\"Python é incrível :snake: :rocket:\"))\n"
      ],
      "metadata": {
        "id": "Fj5gRUgogH8A",
        "colab": {
          "base_uri": "https://localhost:8080/"
        },
        "outputId": "ea93af45-349e-4b53-dfc1-e146f42da49b"
      },
      "execution_count": null,
      "outputs": [
        {
          "output_type": "stream",
          "name": "stdout",
          "text": [
            "Python é incrível 🐍 🚀\n"
          ]
        }
      ]
    },
    {
      "cell_type": "code",
      "source": [
        "print(emojize(\"Python is fun :red_heart:\"))"
      ],
      "metadata": {
        "colab": {
          "base_uri": "https://localhost:8080/"
        },
        "id": "m3KTFEN80pY2",
        "outputId": "5d41771a-4a55-4b05-ce4b-26547821825e"
      },
      "execution_count": null,
      "outputs": [
        {
          "output_type": "stream",
          "name": "stdout",
          "text": [
            "Python is fun ❤️\n"
          ]
        }
      ]
    },
    {
      "cell_type": "code",
      "source": [
        "print(emojize('Python is :thumbsup:', language='alias'))"
      ],
      "metadata": {
        "colab": {
          "base_uri": "https://localhost:8080/"
        },
        "id": "EckpFDUY1BXN",
        "outputId": "bcd0237c-b76f-4846-8eae-3f44c88eaec2"
      },
      "execution_count": null,
      "outputs": [
        {
          "output_type": "stream",
          "name": "stdout",
          "text": [
            "Python is 👍\n"
          ]
        }
      ]
    },
    {
      "cell_type": "markdown",
      "source": [
        "## 📊 Pacote `matplotlib`\n",
        "\n",
        "O pacote [`matplotlib`](https://matplotlib.org/) é muito usado para gerar gráficos em Python.\n",
        "\n",
        "No Colab ele já vem instalado, mas vamos simular a instalação para fins didáticos."
      ],
      "metadata": {
        "id": "OcvLSpieghTY"
      }
    },
    {
      "cell_type": "markdown",
      "source": [
        "## Partes de uma figura no matplotlib\n",
        "Tutorais oficiais: https://matplotlib.org/stable/tutorials/index\n",
        "\n",
        "Veja a [documentação](https://matplotlib.org/stable/tutorials/introductory/usage.html#sphx-glr-tutorials-introductory-usage-py)."
      ],
      "metadata": {
        "id": "VqRXh_WRiWoO"
      }
    },
    {
      "cell_type": "markdown",
      "source": [
        "![matplotlib_figure_axes_axis (4).png](data:image/png;base64,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)"
      ],
      "metadata": {
        "id": "QcG3oHDXiZrh"
      }
    },
    {
      "cell_type": "code",
      "source": [
        "# Usando o pacote para criar um gráfico simples\n",
        "import matplotlib.pyplot as plt\n",
        "\n",
        "x = [1, 2, 3, 4]\n",
        "y = [10, 20, 25, 30]\n",
        "\n",
        "plt.plot(x, y, marker=\"o\")\n",
        "plt.title(\"Exemplo rápido com Matplotlib\")\n",
        "plt.xlabel(\"Eixo X - Números\")\n",
        "plt.ylabel(\"Eixo Y\")\n",
        "plt.show()"
      ],
      "metadata": {
        "id": "Yp32iuS1gfCH",
        "colab": {
          "base_uri": "https://localhost:8080/",
          "height": 472
        },
        "outputId": "17b6a709-65ba-43c5-f860-5395ec881afc"
      },
      "execution_count": null,
      "outputs": [
        {
          "output_type": "display_data",
          "data": {
            "text/plain": [
              "<Figure size 640x480 with 1 Axes>"
            ],
            "image/png": "[encoded data removed]"
          },
          "metadata": {}
        }
      ]
    },
    {
      "cell_type": "code",
      "source": [
        "from IPython.display import YouTubeVideo\n",
        "YouTubeVideo('iSpi3rKdoLQ')"
      ],
      "metadata": {
        "id": "l8OMITW6iRU7",
        "colab": {
          "base_uri": "https://localhost:8080/",
          "height": 321
        },
        "outputId": "aa3a8dde-2f42-459a-c965-fd0581d513b9"
      },
      "execution_count": null,
      "outputs": [
        {
          "output_type": "execute_result",
          "data": {
            "text/plain": [
              "<IPython.lib.display.YouTubeVideo at 0x796134edd850>"
            ],
            "text/html": [
              "\n",
              "        <iframe\n",
              "            width=\"400\"\n",
              "            height=\"300\"\n",
              "            src=\"https://www.youtube.com/embed/iSpi3rKdoLQ\"\n",
              "            frameborder=\"0\"\n",
              "            allowfullscreen\n",
              "            \n",
              "        ></iframe>\n",
              "        "
            ],
            "image/jpeg": "[encoded data removed]"
          },
          "metadata": {},
          "execution_count": 67
        }
      ]
    },
    {
      "cell_type": "markdown",
      "source": [
        "### Exercício 3 — Usando pacotes externos no Colab\n",
        "\n",
        "1. Instale o pacote faker com o comando: `!pip install faker`\n",
        "\n",
        "2. Importe o pacote no notebook: `from faker import Faker`\n",
        "\n",
        "3. Crie um objeto `fake = Faker()`.\n",
        "\n",
        "4. Gere 5 nomes falsos e 5 e-mails falsos com `fake.name()` e `fake.email()`.\n",
        "\n",
        "5. Exiba os resultados."
      ],
      "metadata": {
        "id": "FqaqvaWSgspO"
      }
    },
    {
      "cell_type": "code",
      "source": [
        "!pip install faker"
      ],
      "metadata": {
        "id": "_m-eDxnDhJ-y",
        "colab": {
          "base_uri": "https://localhost:8080/"
        },
        "outputId": "63f37822-1abb-4b3c-ed07-fa1ca305fa15"
      },
      "execution_count": null,
      "outputs": [
        {
          "output_type": "stream",
          "name": "stdout",
          "text": [
            "Collecting faker\n",
            "  Downloading faker-37.8.0-py3-none-any.whl.metadata (15 kB)\n",
            "Requirement already satisfied: tzdata in /usr/local/lib/python3.12/dist-packages (from faker) (2025.2)\n",
            "Downloading faker-37.8.0-py3-none-any.whl (2.0 MB)\n",
            "\u001b[?25l   \u001b[90m━━━━━━━━━━━━━━━━━━━━━━━━━━━━━━━━━━━━━━━━\u001b[0m \u001b[32m0.0/2.0 MB\u001b[0m \u001b[31m?\u001b[0m eta \u001b[36m-:--:--\u001b[0m\r\u001b[2K   \u001b[91m━━━━━━━━━━━━━━━━━━━━━━━━━━━━━━━━━━━━━━━\u001b[0m\u001b[91m╸\u001b[0m \u001b[32m1.9/2.0 MB\u001b[0m \u001b[31m99.1 MB/s\u001b[0m eta \u001b[36m0:00:01\u001b[0m\r\u001b[2K   \u001b[90m━━━━━━━━━━━━━━━━━━━━━━━━━━━━━━━━━━━━━━━━\u001b[0m \u001b[32m2.0/2.0 MB\u001b[0m \u001b[31m49.0 MB/s\u001b[0m eta \u001b[36m0:00:00\u001b[0m\n",
            "\u001b[?25hInstalling collected packages: faker\n",
            "Successfully installed faker-37.8.0\n"
          ]
        }
      ]
    },
    {
      "cell_type": "code",
      "source": [
        "from faker import Faker"
      ],
      "metadata": {
        "id": "vn6WYKuz2HwV"
      },
      "execution_count": null,
      "outputs": []
    },
    {
      "cell_type": "code",
      "source": [
        "fake = Faker('pT_BR')\n",
        "\n",
        "print(fake.name())\n",
        "print(fake.email())\n",
        "print(fake.name())\n",
        "print(fake.email())\n",
        "print(fake.name())\n",
        "print(fake.email())\n",
        "print(fake.address())"
      ],
      "metadata": {
        "colab": {
          "base_uri": "https://localhost:8080/"
        },
        "id": "TkDt9TWt2Jey",
        "outputId": "1ed47339-892d-49ab-84cc-7a17c73766c8"
      },
      "execution_count": null,
      "outputs": [
        {
          "output_type": "stream",
          "name": "stdout",
          "text": [
            "Enzo Aragão\n",
            "gustavo-henriquemartins@example.org\n",
            "Isadora Rodrigues\n",
            "apollo14@example.org\n",
            "Helena Pinto\n",
            "nguerra@example.org\n",
            "Parque Cassiano, 4\n",
            "Outro\n",
            "50173044 Cirino / ES\n"
          ]
        }
      ]
    },
    {
      "cell_type": "code",
      "source": [],
      "metadata": {
        "id": "uaGFTYbr2W7o"
      },
      "execution_count": null,
      "outputs": []
    },
    {
      "cell_type": "markdown",
      "source": [
        "## Conclusão\n",
        "- Usamos `!pip install` para instalar pacotes externos no Colab;\n",
        "- Importamos e utilizamos dois pacotes: `emoji` e `matplotlib`;\n",
        "- Existem **milhares de pacotes disponíveis** no [PyPI](https://pypi.org/) que podem ser explorados em projetos futuros.\n",
        "\n",
        "✨ Assim como fizemos aqui, podemos instalar qualquer pacote necessário para análise de dados, visualização, automação e muito mais!"
      ],
      "metadata": {
        "id": "OGgEEIwrgpwU"
      }
    },
    {
      "cell_type": "code",
      "source": [],
      "metadata": {
        "id": "Ljg3QMiQhYfq"
      },
      "execution_count": null,
      "outputs": []
    }
  ]
}